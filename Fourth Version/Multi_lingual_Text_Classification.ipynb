{
 "cells": [
  {
   "cell_type": "markdown",
   "metadata": {
    "id": "Ze6-BGWwGg2C"
   },
   "source": [
    "#**1. Basic Data Loading and Data Preparation**"
   ]
  },
  {
   "cell_type": "code",
   "execution_count": 2,
   "metadata": {
    "id": "Bz2WvVcFGyWI"
   },
   "outputs": [],
   "source": [
    "import numpy as np\n",
    "import pandas as pd\n",
    "import matplotlib.pyplot as plt\n",
    "from sklearn.model_selection import train_test_split\n",
    "from sklearn.feature_selection import RFE\n",
    "from sklearn.ensemble import RandomForestClassifier\n",
    "from sklearn.metrics import accuracy_score, classification_report\n",
    "import matplotlib.pyplot as plt\n",
    "from sklearn.metrics import (\n",
    "    accuracy_score, precision_score, recall_score, f1_score,\n",
    "    classification_report, confusion_matrix\n",
    ")\n"
   ]
  },
  {
   "cell_type": "code",
   "execution_count": null,
   "metadata": {
    "colab": {
     "base_uri": "https://localhost:8080/"
    },
    "id": "trxw5J-hDaHY",
    "outputId": "e11e5940-0a6e-4a09-f83f-f5b0bc1c2099"
   },
   "outputs": [
    {
     "name": "stdout",
     "output_type": "stream",
     "text": [
      "Requirement already satisfied: textstat in /usr/local/lib/python3.11/dist-packages (0.7.5)\n",
      "Requirement already satisfied: pyphen in /usr/local/lib/python3.11/dist-packages (from textstat) (0.17.2)\n",
      "Requirement already satisfied: cmudict in /usr/local/lib/python3.11/dist-packages (from textstat) (1.0.32)\n",
      "Requirement already satisfied: setuptools in /usr/local/lib/python3.11/dist-packages (from textstat) (75.1.0)\n",
      "Requirement already satisfied: importlib-metadata>=5 in /usr/local/lib/python3.11/dist-packages (from cmudict->textstat) (8.6.1)\n",
      "Requirement already satisfied: importlib-resources>=5 in /usr/local/lib/python3.11/dist-packages (from cmudict->textstat) (6.5.2)\n",
      "Requirement already satisfied: zipp>=3.20 in /usr/local/lib/python3.11/dist-packages (from importlib-metadata>=5->cmudict->textstat) (3.21.0)\n",
      "Requirement already satisfied: emoji in /usr/local/lib/python3.11/dist-packages (2.14.1)\n",
      "Requirement already satisfied: lazypredict in /usr/local/lib/python3.11/dist-packages (0.2.13)\n",
      "Requirement already satisfied: click in /usr/local/lib/python3.11/dist-packages (from lazypredict) (8.1.8)\n",
      "Requirement already satisfied: scikit-learn in /usr/local/lib/python3.11/dist-packages (from lazypredict) (1.6.1)\n",
      "Requirement already satisfied: pandas in /usr/local/lib/python3.11/dist-packages (from lazypredict) (2.2.2)\n",
      "Requirement already satisfied: tqdm in /usr/local/lib/python3.11/dist-packages (from lazypredict) (4.67.1)\n",
      "Requirement already satisfied: joblib in /usr/local/lib/python3.11/dist-packages (from lazypredict) (1.4.2)\n",
      "Requirement already satisfied: lightgbm in /usr/local/lib/python3.11/dist-packages (from lazypredict) (4.5.0)\n",
      "Requirement already satisfied: xgboost in /usr/local/lib/python3.11/dist-packages (from lazypredict) (2.1.4)\n",
      "Requirement already satisfied: numpy>=1.17.0 in /usr/local/lib/python3.11/dist-packages (from lightgbm->lazypredict) (1.26.4)\n",
      "Requirement already satisfied: scipy in /usr/local/lib/python3.11/dist-packages (from lightgbm->lazypredict) (1.13.1)\n",
      "Requirement already satisfied: python-dateutil>=2.8.2 in /usr/local/lib/python3.11/dist-packages (from pandas->lazypredict) (2.8.2)\n",
      "Requirement already satisfied: pytz>=2020.1 in /usr/local/lib/python3.11/dist-packages (from pandas->lazypredict) (2025.1)\n",
      "Requirement already satisfied: tzdata>=2022.7 in /usr/local/lib/python3.11/dist-packages (from pandas->lazypredict) (2025.1)\n",
      "Requirement already satisfied: threadpoolctl>=3.1.0 in /usr/local/lib/python3.11/dist-packages (from scikit-learn->lazypredict) (3.5.0)\n",
      "Requirement already satisfied: nvidia-nccl-cu12 in /usr/local/lib/python3.11/dist-packages (from xgboost->lazypredict) (2.21.5)\n",
      "Requirement already satisfied: six>=1.5 in /usr/local/lib/python3.11/dist-packages (from python-dateutil>=2.8.2->pandas->lazypredict) (1.17.0)\n",
      "Requirement already satisfied: chardet in /usr/local/lib/python3.11/dist-packages (5.2.0)\n"
     ]
    }
   ],
   "source": [
    "!pip install textstat\n",
    "!pip install emoji\n",
    "!pip install lazypredict\n",
    "!pip install chardet"
   ]
  },
  {
   "cell_type": "code",
   "execution_count": null,
   "metadata": {
    "colab": {
     "base_uri": "https://localhost:8080/"
    },
    "id": "TcegpvYQs817",
    "outputId": "246aa5e0-4687-4a86-aeb1-a760b4b746f6"
   },
   "outputs": [
    {
     "name": "stdout",
     "output_type": "stream",
     "text": [
      "Drive already mounted at /content/drive; to attempt to forcibly remount, call drive.mount(\"/content/drive\", force_remount=True).\n"
     ]
    }
   ],
   "source": [
    "from google.colab import drive\n",
    "drive.mount('/content/drive')"
   ]
  },
  {
   "cell_type": "code",
   "execution_count": null,
   "metadata": {
    "id": "rTz30QfkG_2c"
   },
   "outputs": [],
   "source": [
    "#import pandas as pd\n",
    "\n",
    "# Load the Excel file\n",
    "#df = pd.read_excel(\"/content/drive/MyDrive/Dravidian SMS Research/DS2.xlsx\")  # Change \"input.xlsx\" to your file name\n",
    "\n",
    "# Save as CSV\n",
    "#df.to_csv(\"/content/drive/MyDrive/Dravidian SMS Research/DS2.csv\", index=False)  # Saves without the index column\n"
   ]
  },
  {
   "cell_type": "code",
   "execution_count": null,
   "metadata": {
    "id": "bGa0U4BYInAt"
   },
   "outputs": [],
   "source": [
    "data_raw = '/content/drive/MyDrive/Dravidian SMS Research/IIITD Precog.csv'"
   ]
  },
  {
   "cell_type": "code",
   "execution_count": null,
   "metadata": {
    "id": "9dp_ZsJe9L9P"
   },
   "outputs": [],
   "source": [
    "import chardet\n",
    "\n",
    "# Detect encoding\n",
    "with open(data_raw, 'rb') as file:\n",
    "    result = chardet.detect(file.read(10000))  # Read the first 10,000 bytes\n",
    "    detected_encoding = result['encoding']\n"
   ]
  },
  {
   "cell_type": "code",
   "execution_count": null,
   "metadata": {
    "colab": {
     "base_uri": "https://localhost:8080/"
    },
    "id": "J-PL2TocI340",
    "outputId": "02bde9c6-1c9a-4dc2-e226-ed4b45e2ec79"
   },
   "outputs": [
    {
     "name": "stdout",
     "output_type": "stream",
     "text": [
      "  label                                            message\n",
      "0  spam  Luxurious 2/3 BHK lifestyle Apts at sec 137 No...\n",
      "1  spam  Guinness Record!,World�s most pierced women! C...\n",
      "2  spam  Jalebee or DK Bose?,Help break this tie. We ha...\n",
      "3  spam  Test for Yuvraj,How many Test centuries has Yu...\n",
      "4  spam  Harry Potter...,How is Harry Potter & the Pris...\n"
     ]
    }
   ],
   "source": [
    "# Read the CSV with the detected encoding\n",
    "# Load dataset from a local file\n",
    "#data = pd.read_csv(data_raw, sep='\\t', names=['label', 'message'], header=None)\n",
    "\n",
    "data=pd.read_csv(data_raw) ##, encoding=detected_encoding)\n",
    "\n",
    "# Display the first few rows\n",
    "print(data.head())\n"
   ]
  },
  {
   "cell_type": "code",
   "execution_count": null,
   "metadata": {
    "colab": {
     "base_uri": "https://localhost:8080/"
    },
    "id": "nNmRaW_xTxR4",
    "outputId": "69c673d5-fc18-42c5-a7bf-0dcb25dc410c"
   },
   "outputs": [
    {
     "name": "stdout",
     "output_type": "stream",
     "text": [
      "<class 'pandas.core.frame.DataFrame'>\n",
      "RangeIndex: 1999 entries, 0 to 1998\n",
      "Data columns (total 2 columns):\n",
      " #   Column   Non-Null Count  Dtype \n",
      "---  ------   --------------  ----- \n",
      " 0   label    1999 non-null   object\n",
      " 1   message  1999 non-null   object\n",
      "dtypes: object(2)\n",
      "memory usage: 31.4+ KB\n"
     ]
    }
   ],
   "source": [
    "data.info()"
   ]
  },
  {
   "cell_type": "code",
   "execution_count": null,
   "metadata": {
    "colab": {
     "base_uri": "https://localhost:8080/",
     "height": 206
    },
    "id": "PcPxARIKTzcV",
    "outputId": "74d5207e-47c3-4490-8f10-41637124ce95"
   },
   "outputs": [
    {
     "data": {
      "application/vnd.google.colaboratory.intrinsic+json": {
       "summary": "{\n  \"name\": \"data\",\n  \"rows\": 1999,\n  \"fields\": [\n    {\n      \"column\": \"label\",\n      \"properties\": {\n        \"dtype\": \"category\",\n        \"num_unique_values\": 2,\n        \"samples\": [\n          \"ham\",\n          \"spam\"\n        ],\n        \"semantic_type\": \"\",\n        \"description\": \"\"\n      }\n    },\n    {\n      \"column\": \"message\",\n      \"properties\": {\n        \"dtype\": \"string\",\n        \"num_unique_values\": 1983,\n        \"samples\": [\n          \"omedy Special! Suniye superhit filmein Airtel talkies par. Dial keejiye 5101099 (toll-free) aur paayein sirf Rs30/30 din mein 4 filmein\",\n          \"indgi me jab tumhe koi rasta dikhai na de koi manzil koi dost koi apna dikhai na de then call me mai tumhe EYE SPECIALIST K pas le jaunga\"\n        ],\n        \"semantic_type\": \"\",\n        \"description\": \"\"\n      }\n    }\n  ]\n}",
       "type": "dataframe",
       "variable_name": "data"
      },
      "text/html": [
       "\n",
       "  <div id=\"df-ce1cf3c4-2915-4335-a081-b79a161670bf\" class=\"colab-df-container\">\n",
       "    <div>\n",
       "<style scoped>\n",
       "    .dataframe tbody tr th:only-of-type {\n",
       "        vertical-align: middle;\n",
       "    }\n",
       "\n",
       "    .dataframe tbody tr th {\n",
       "        vertical-align: top;\n",
       "    }\n",
       "\n",
       "    .dataframe thead th {\n",
       "        text-align: right;\n",
       "    }\n",
       "</style>\n",
       "<table border=\"1\" class=\"dataframe\">\n",
       "  <thead>\n",
       "    <tr style=\"text-align: right;\">\n",
       "      <th></th>\n",
       "      <th>label</th>\n",
       "      <th>message</th>\n",
       "    </tr>\n",
       "  </thead>\n",
       "  <tbody>\n",
       "    <tr>\n",
       "      <th>0</th>\n",
       "      <td>spam</td>\n",
       "      <td>Luxurious 2/3 BHK lifestyle Apts at sec 137 No...</td>\n",
       "    </tr>\n",
       "    <tr>\n",
       "      <th>1</th>\n",
       "      <td>spam</td>\n",
       "      <td>Guinness Record!,World�s most pierced women! C...</td>\n",
       "    </tr>\n",
       "    <tr>\n",
       "      <th>2</th>\n",
       "      <td>spam</td>\n",
       "      <td>Jalebee or DK Bose?,Help break this tie. We ha...</td>\n",
       "    </tr>\n",
       "    <tr>\n",
       "      <th>3</th>\n",
       "      <td>spam</td>\n",
       "      <td>Test for Yuvraj,How many Test centuries has Yu...</td>\n",
       "    </tr>\n",
       "    <tr>\n",
       "      <th>4</th>\n",
       "      <td>spam</td>\n",
       "      <td>Harry Potter...,How is Harry Potter &amp; the Pris...</td>\n",
       "    </tr>\n",
       "  </tbody>\n",
       "</table>\n",
       "</div>\n",
       "    <div class=\"colab-df-buttons\">\n",
       "\n",
       "  <div class=\"colab-df-container\">\n",
       "    <button class=\"colab-df-convert\" onclick=\"convertToInteractive('df-ce1cf3c4-2915-4335-a081-b79a161670bf')\"\n",
       "            title=\"Convert this dataframe to an interactive table.\"\n",
       "            style=\"display:none;\">\n",
       "\n",
       "  <svg xmlns=\"http://www.w3.org/2000/svg\" height=\"24px\" viewBox=\"0 -960 960 960\">\n",
       "    <path d=\"M120-120v-720h720v720H120Zm60-500h600v-160H180v160Zm220 220h160v-160H400v160Zm0 220h160v-160H400v160ZM180-400h160v-160H180v160Zm440 0h160v-160H620v160ZM180-180h160v-160H180v160Zm440 0h160v-160H620v160Z\"/>\n",
       "  </svg>\n",
       "    </button>\n",
       "\n",
       "  <style>\n",
       "    .colab-df-container {\n",
       "      display:flex;\n",
       "      gap: 12px;\n",
       "    }\n",
       "\n",
       "    .colab-df-convert {\n",
       "      background-color: #E8F0FE;\n",
       "      border: none;\n",
       "      border-radius: 50%;\n",
       "      cursor: pointer;\n",
       "      display: none;\n",
       "      fill: #1967D2;\n",
       "      height: 32px;\n",
       "      padding: 0 0 0 0;\n",
       "      width: 32px;\n",
       "    }\n",
       "\n",
       "    .colab-df-convert:hover {\n",
       "      background-color: #E2EBFA;\n",
       "      box-shadow: 0px 1px 2px rgba(60, 64, 67, 0.3), 0px 1px 3px 1px rgba(60, 64, 67, 0.15);\n",
       "      fill: #174EA6;\n",
       "    }\n",
       "\n",
       "    .colab-df-buttons div {\n",
       "      margin-bottom: 4px;\n",
       "    }\n",
       "\n",
       "    [theme=dark] .colab-df-convert {\n",
       "      background-color: #3B4455;\n",
       "      fill: #D2E3FC;\n",
       "    }\n",
       "\n",
       "    [theme=dark] .colab-df-convert:hover {\n",
       "      background-color: #434B5C;\n",
       "      box-shadow: 0px 1px 3px 1px rgba(0, 0, 0, 0.15);\n",
       "      filter: drop-shadow(0px 1px 2px rgba(0, 0, 0, 0.3));\n",
       "      fill: #FFFFFF;\n",
       "    }\n",
       "  </style>\n",
       "\n",
       "    <script>\n",
       "      const buttonEl =\n",
       "        document.querySelector('#df-ce1cf3c4-2915-4335-a081-b79a161670bf button.colab-df-convert');\n",
       "      buttonEl.style.display =\n",
       "        google.colab.kernel.accessAllowed ? 'block' : 'none';\n",
       "\n",
       "      async function convertToInteractive(key) {\n",
       "        const element = document.querySelector('#df-ce1cf3c4-2915-4335-a081-b79a161670bf');\n",
       "        const dataTable =\n",
       "          await google.colab.kernel.invokeFunction('convertToInteractive',\n",
       "                                                    [key], {});\n",
       "        if (!dataTable) return;\n",
       "\n",
       "        const docLinkHtml = 'Like what you see? Visit the ' +\n",
       "          '<a target=\"_blank\" href=https://colab.research.google.com/notebooks/data_table.ipynb>data table notebook</a>'\n",
       "          + ' to learn more about interactive tables.';\n",
       "        element.innerHTML = '';\n",
       "        dataTable['output_type'] = 'display_data';\n",
       "        await google.colab.output.renderOutput(dataTable, element);\n",
       "        const docLink = document.createElement('div');\n",
       "        docLink.innerHTML = docLinkHtml;\n",
       "        element.appendChild(docLink);\n",
       "      }\n",
       "    </script>\n",
       "  </div>\n",
       "\n",
       "\n",
       "<div id=\"df-7f96a111-c04d-49a3-980a-68744f44a1b7\">\n",
       "  <button class=\"colab-df-quickchart\" onclick=\"quickchart('df-7f96a111-c04d-49a3-980a-68744f44a1b7')\"\n",
       "            title=\"Suggest charts\"\n",
       "            style=\"display:none;\">\n",
       "\n",
       "<svg xmlns=\"http://www.w3.org/2000/svg\" height=\"24px\"viewBox=\"0 0 24 24\"\n",
       "     width=\"24px\">\n",
       "    <g>\n",
       "        <path d=\"M19 3H5c-1.1 0-2 .9-2 2v14c0 1.1.9 2 2 2h14c1.1 0 2-.9 2-2V5c0-1.1-.9-2-2-2zM9 17H7v-7h2v7zm4 0h-2V7h2v10zm4 0h-2v-4h2v4z\"/>\n",
       "    </g>\n",
       "</svg>\n",
       "  </button>\n",
       "\n",
       "<style>\n",
       "  .colab-df-quickchart {\n",
       "      --bg-color: #E8F0FE;\n",
       "      --fill-color: #1967D2;\n",
       "      --hover-bg-color: #E2EBFA;\n",
       "      --hover-fill-color: #174EA6;\n",
       "      --disabled-fill-color: #AAA;\n",
       "      --disabled-bg-color: #DDD;\n",
       "  }\n",
       "\n",
       "  [theme=dark] .colab-df-quickchart {\n",
       "      --bg-color: #3B4455;\n",
       "      --fill-color: #D2E3FC;\n",
       "      --hover-bg-color: #434B5C;\n",
       "      --hover-fill-color: #FFFFFF;\n",
       "      --disabled-bg-color: #3B4455;\n",
       "      --disabled-fill-color: #666;\n",
       "  }\n",
       "\n",
       "  .colab-df-quickchart {\n",
       "    background-color: var(--bg-color);\n",
       "    border: none;\n",
       "    border-radius: 50%;\n",
       "    cursor: pointer;\n",
       "    display: none;\n",
       "    fill: var(--fill-color);\n",
       "    height: 32px;\n",
       "    padding: 0;\n",
       "    width: 32px;\n",
       "  }\n",
       "\n",
       "  .colab-df-quickchart:hover {\n",
       "    background-color: var(--hover-bg-color);\n",
       "    box-shadow: 0 1px 2px rgba(60, 64, 67, 0.3), 0 1px 3px 1px rgba(60, 64, 67, 0.15);\n",
       "    fill: var(--button-hover-fill-color);\n",
       "  }\n",
       "\n",
       "  .colab-df-quickchart-complete:disabled,\n",
       "  .colab-df-quickchart-complete:disabled:hover {\n",
       "    background-color: var(--disabled-bg-color);\n",
       "    fill: var(--disabled-fill-color);\n",
       "    box-shadow: none;\n",
       "  }\n",
       "\n",
       "  .colab-df-spinner {\n",
       "    border: 2px solid var(--fill-color);\n",
       "    border-color: transparent;\n",
       "    border-bottom-color: var(--fill-color);\n",
       "    animation:\n",
       "      spin 1s steps(1) infinite;\n",
       "  }\n",
       "\n",
       "  @keyframes spin {\n",
       "    0% {\n",
       "      border-color: transparent;\n",
       "      border-bottom-color: var(--fill-color);\n",
       "      border-left-color: var(--fill-color);\n",
       "    }\n",
       "    20% {\n",
       "      border-color: transparent;\n",
       "      border-left-color: var(--fill-color);\n",
       "      border-top-color: var(--fill-color);\n",
       "    }\n",
       "    30% {\n",
       "      border-color: transparent;\n",
       "      border-left-color: var(--fill-color);\n",
       "      border-top-color: var(--fill-color);\n",
       "      border-right-color: var(--fill-color);\n",
       "    }\n",
       "    40% {\n",
       "      border-color: transparent;\n",
       "      border-right-color: var(--fill-color);\n",
       "      border-top-color: var(--fill-color);\n",
       "    }\n",
       "    60% {\n",
       "      border-color: transparent;\n",
       "      border-right-color: var(--fill-color);\n",
       "    }\n",
       "    80% {\n",
       "      border-color: transparent;\n",
       "      border-right-color: var(--fill-color);\n",
       "      border-bottom-color: var(--fill-color);\n",
       "    }\n",
       "    90% {\n",
       "      border-color: transparent;\n",
       "      border-bottom-color: var(--fill-color);\n",
       "    }\n",
       "  }\n",
       "</style>\n",
       "\n",
       "  <script>\n",
       "    async function quickchart(key) {\n",
       "      const quickchartButtonEl =\n",
       "        document.querySelector('#' + key + ' button');\n",
       "      quickchartButtonEl.disabled = true;  // To prevent multiple clicks.\n",
       "      quickchartButtonEl.classList.add('colab-df-spinner');\n",
       "      try {\n",
       "        const charts = await google.colab.kernel.invokeFunction(\n",
       "            'suggestCharts', [key], {});\n",
       "      } catch (error) {\n",
       "        console.error('Error during call to suggestCharts:', error);\n",
       "      }\n",
       "      quickchartButtonEl.classList.remove('colab-df-spinner');\n",
       "      quickchartButtonEl.classList.add('colab-df-quickchart-complete');\n",
       "    }\n",
       "    (() => {\n",
       "      let quickchartButtonEl =\n",
       "        document.querySelector('#df-7f96a111-c04d-49a3-980a-68744f44a1b7 button');\n",
       "      quickchartButtonEl.style.display =\n",
       "        google.colab.kernel.accessAllowed ? 'block' : 'none';\n",
       "    })();\n",
       "  </script>\n",
       "</div>\n",
       "\n",
       "    </div>\n",
       "  </div>\n"
      ],
      "text/plain": [
       "  label                                            message\n",
       "0  spam  Luxurious 2/3 BHK lifestyle Apts at sec 137 No...\n",
       "1  spam  Guinness Record!,World�s most pierced women! C...\n",
       "2  spam  Jalebee or DK Bose?,Help break this tie. We ha...\n",
       "3  spam  Test for Yuvraj,How many Test centuries has Yu...\n",
       "4  spam  Harry Potter...,How is Harry Potter & the Pris..."
      ]
     },
     "execution_count": 9,
     "metadata": {},
     "output_type": "execute_result"
    }
   ],
   "source": [
    "data.head()"
   ]
  },
  {
   "cell_type": "code",
   "execution_count": null,
   "metadata": {
    "id": "vcuT-wLIFIli"
   },
   "outputs": [],
   "source": [
    "df = data"
   ]
  },
  {
   "cell_type": "code",
   "execution_count": null,
   "metadata": {
    "colab": {
     "base_uri": "https://localhost:8080/",
     "height": 424
    },
    "id": "qfHliVWnFOJ8",
    "outputId": "09ddabfe-6ea4-4396-dbde-48d1d9d5d88e"
   },
   "outputs": [
    {
     "data": {
      "application/vnd.google.colaboratory.intrinsic+json": {
       "summary": "{\n  \"name\": \"df\",\n  \"rows\": 1983,\n  \"fields\": [\n    {\n      \"column\": \"label\",\n      \"properties\": {\n        \"dtype\": \"category\",\n        \"num_unique_values\": 2,\n        \"samples\": [\n          \"ham\",\n          \"spam\"\n        ],\n        \"semantic_type\": \"\",\n        \"description\": \"\"\n      }\n    },\n    {\n      \"column\": \"message\",\n      \"properties\": {\n        \"dtype\": \"string\",\n        \"num_unique_values\": 1983,\n        \"samples\": [\n          \"omedy Special! Suniye superhit filmein Airtel talkies par. Dial keejiye 5101099 (toll-free) aur paayein sirf Rs30/30 din mein 4 filmein\",\n          \"indgi me jab tumhe koi rasta dikhai na de koi manzil koi dost koi apna dikhai na de then call me mai tumhe EYE SPECIALIST K pas le jaunga\"\n        ],\n        \"semantic_type\": \"\",\n        \"description\": \"\"\n      }\n    }\n  ]\n}",
       "type": "dataframe"
      },
      "text/html": [
       "\n",
       "  <div id=\"df-cbc16af7-64b0-4bb9-b1f8-dfc45887e7ed\" class=\"colab-df-container\">\n",
       "    <div>\n",
       "<style scoped>\n",
       "    .dataframe tbody tr th:only-of-type {\n",
       "        vertical-align: middle;\n",
       "    }\n",
       "\n",
       "    .dataframe tbody tr th {\n",
       "        vertical-align: top;\n",
       "    }\n",
       "\n",
       "    .dataframe thead th {\n",
       "        text-align: right;\n",
       "    }\n",
       "</style>\n",
       "<table border=\"1\" class=\"dataframe\">\n",
       "  <thead>\n",
       "    <tr style=\"text-align: right;\">\n",
       "      <th></th>\n",
       "      <th>label</th>\n",
       "      <th>message</th>\n",
       "    </tr>\n",
       "  </thead>\n",
       "  <tbody>\n",
       "    <tr>\n",
       "      <th>0</th>\n",
       "      <td>spam</td>\n",
       "      <td>Luxurious 2/3 BHK lifestyle Apts at sec 137 No...</td>\n",
       "    </tr>\n",
       "    <tr>\n",
       "      <th>1</th>\n",
       "      <td>spam</td>\n",
       "      <td>Guinness Record!,World�s most pierced women! C...</td>\n",
       "    </tr>\n",
       "    <tr>\n",
       "      <th>2</th>\n",
       "      <td>spam</td>\n",
       "      <td>Jalebee or DK Bose?,Help break this tie. We ha...</td>\n",
       "    </tr>\n",
       "    <tr>\n",
       "      <th>3</th>\n",
       "      <td>spam</td>\n",
       "      <td>Test for Yuvraj,How many Test centuries has Yu...</td>\n",
       "    </tr>\n",
       "    <tr>\n",
       "      <th>4</th>\n",
       "      <td>spam</td>\n",
       "      <td>Harry Potter...,How is Harry Potter &amp; the Pris...</td>\n",
       "    </tr>\n",
       "    <tr>\n",
       "      <th>...</th>\n",
       "      <td>...</td>\n",
       "      <td>...</td>\n",
       "    </tr>\n",
       "    <tr>\n",
       "      <th>1994</th>\n",
       "      <td>ham</td>\n",
       "      <td>Husband: Mai tumhari roz ki farmaishon se tang...</td>\n",
       "    </tr>\n",
       "    <tr>\n",
       "      <th>1995</th>\n",
       "      <td>ham</td>\n",
       "      <td>HUSBAND WIFE se bola HATA Lo Apne Chehre Se Ye...</td>\n",
       "    </tr>\n",
       "    <tr>\n",
       "      <th>1996</th>\n",
       "      <td>ham</td>\n",
       "      <td>Husband To Wife-Tum Meri Zindagi HoOrWIFE-Or K...</td>\n",
       "    </tr>\n",
       "    <tr>\n",
       "      <th>1997</th>\n",
       "      <td>ham</td>\n",
       "      <td>HUSBAND to WIFE HATA Lo Apne Chehre Se Ye Zulf...</td>\n",
       "    </tr>\n",
       "    <tr>\n",
       "      <th>1998</th>\n",
       "      <td>ham</td>\n",
       "      <td>indgi Me 2Logo Ka Bahut Khyal Rakhna: 1) Jisne...</td>\n",
       "    </tr>\n",
       "  </tbody>\n",
       "</table>\n",
       "<p>1983 rows × 2 columns</p>\n",
       "</div>\n",
       "    <div class=\"colab-df-buttons\">\n",
       "\n",
       "  <div class=\"colab-df-container\">\n",
       "    <button class=\"colab-df-convert\" onclick=\"convertToInteractive('df-cbc16af7-64b0-4bb9-b1f8-dfc45887e7ed')\"\n",
       "            title=\"Convert this dataframe to an interactive table.\"\n",
       "            style=\"display:none;\">\n",
       "\n",
       "  <svg xmlns=\"http://www.w3.org/2000/svg\" height=\"24px\" viewBox=\"0 -960 960 960\">\n",
       "    <path d=\"M120-120v-720h720v720H120Zm60-500h600v-160H180v160Zm220 220h160v-160H400v160Zm0 220h160v-160H400v160ZM180-400h160v-160H180v160Zm440 0h160v-160H620v160ZM180-180h160v-160H180v160Zm440 0h160v-160H620v160Z\"/>\n",
       "  </svg>\n",
       "    </button>\n",
       "\n",
       "  <style>\n",
       "    .colab-df-container {\n",
       "      display:flex;\n",
       "      gap: 12px;\n",
       "    }\n",
       "\n",
       "    .colab-df-convert {\n",
       "      background-color: #E8F0FE;\n",
       "      border: none;\n",
       "      border-radius: 50%;\n",
       "      cursor: pointer;\n",
       "      display: none;\n",
       "      fill: #1967D2;\n",
       "      height: 32px;\n",
       "      padding: 0 0 0 0;\n",
       "      width: 32px;\n",
       "    }\n",
       "\n",
       "    .colab-df-convert:hover {\n",
       "      background-color: #E2EBFA;\n",
       "      box-shadow: 0px 1px 2px rgba(60, 64, 67, 0.3), 0px 1px 3px 1px rgba(60, 64, 67, 0.15);\n",
       "      fill: #174EA6;\n",
       "    }\n",
       "\n",
       "    .colab-df-buttons div {\n",
       "      margin-bottom: 4px;\n",
       "    }\n",
       "\n",
       "    [theme=dark] .colab-df-convert {\n",
       "      background-color: #3B4455;\n",
       "      fill: #D2E3FC;\n",
       "    }\n",
       "\n",
       "    [theme=dark] .colab-df-convert:hover {\n",
       "      background-color: #434B5C;\n",
       "      box-shadow: 0px 1px 3px 1px rgba(0, 0, 0, 0.15);\n",
       "      filter: drop-shadow(0px 1px 2px rgba(0, 0, 0, 0.3));\n",
       "      fill: #FFFFFF;\n",
       "    }\n",
       "  </style>\n",
       "\n",
       "    <script>\n",
       "      const buttonEl =\n",
       "        document.querySelector('#df-cbc16af7-64b0-4bb9-b1f8-dfc45887e7ed button.colab-df-convert');\n",
       "      buttonEl.style.display =\n",
       "        google.colab.kernel.accessAllowed ? 'block' : 'none';\n",
       "\n",
       "      async function convertToInteractive(key) {\n",
       "        const element = document.querySelector('#df-cbc16af7-64b0-4bb9-b1f8-dfc45887e7ed');\n",
       "        const dataTable =\n",
       "          await google.colab.kernel.invokeFunction('convertToInteractive',\n",
       "                                                    [key], {});\n",
       "        if (!dataTable) return;\n",
       "\n",
       "        const docLinkHtml = 'Like what you see? Visit the ' +\n",
       "          '<a target=\"_blank\" href=https://colab.research.google.com/notebooks/data_table.ipynb>data table notebook</a>'\n",
       "          + ' to learn more about interactive tables.';\n",
       "        element.innerHTML = '';\n",
       "        dataTable['output_type'] = 'display_data';\n",
       "        await google.colab.output.renderOutput(dataTable, element);\n",
       "        const docLink = document.createElement('div');\n",
       "        docLink.innerHTML = docLinkHtml;\n",
       "        element.appendChild(docLink);\n",
       "      }\n",
       "    </script>\n",
       "  </div>\n",
       "\n",
       "\n",
       "<div id=\"df-6220a27c-3b05-4e37-b380-6fdd1d72dda1\">\n",
       "  <button class=\"colab-df-quickchart\" onclick=\"quickchart('df-6220a27c-3b05-4e37-b380-6fdd1d72dda1')\"\n",
       "            title=\"Suggest charts\"\n",
       "            style=\"display:none;\">\n",
       "\n",
       "<svg xmlns=\"http://www.w3.org/2000/svg\" height=\"24px\"viewBox=\"0 0 24 24\"\n",
       "     width=\"24px\">\n",
       "    <g>\n",
       "        <path d=\"M19 3H5c-1.1 0-2 .9-2 2v14c0 1.1.9 2 2 2h14c1.1 0 2-.9 2-2V5c0-1.1-.9-2-2-2zM9 17H7v-7h2v7zm4 0h-2V7h2v10zm4 0h-2v-4h2v4z\"/>\n",
       "    </g>\n",
       "</svg>\n",
       "  </button>\n",
       "\n",
       "<style>\n",
       "  .colab-df-quickchart {\n",
       "      --bg-color: #E8F0FE;\n",
       "      --fill-color: #1967D2;\n",
       "      --hover-bg-color: #E2EBFA;\n",
       "      --hover-fill-color: #174EA6;\n",
       "      --disabled-fill-color: #AAA;\n",
       "      --disabled-bg-color: #DDD;\n",
       "  }\n",
       "\n",
       "  [theme=dark] .colab-df-quickchart {\n",
       "      --bg-color: #3B4455;\n",
       "      --fill-color: #D2E3FC;\n",
       "      --hover-bg-color: #434B5C;\n",
       "      --hover-fill-color: #FFFFFF;\n",
       "      --disabled-bg-color: #3B4455;\n",
       "      --disabled-fill-color: #666;\n",
       "  }\n",
       "\n",
       "  .colab-df-quickchart {\n",
       "    background-color: var(--bg-color);\n",
       "    border: none;\n",
       "    border-radius: 50%;\n",
       "    cursor: pointer;\n",
       "    display: none;\n",
       "    fill: var(--fill-color);\n",
       "    height: 32px;\n",
       "    padding: 0;\n",
       "    width: 32px;\n",
       "  }\n",
       "\n",
       "  .colab-df-quickchart:hover {\n",
       "    background-color: var(--hover-bg-color);\n",
       "    box-shadow: 0 1px 2px rgba(60, 64, 67, 0.3), 0 1px 3px 1px rgba(60, 64, 67, 0.15);\n",
       "    fill: var(--button-hover-fill-color);\n",
       "  }\n",
       "\n",
       "  .colab-df-quickchart-complete:disabled,\n",
       "  .colab-df-quickchart-complete:disabled:hover {\n",
       "    background-color: var(--disabled-bg-color);\n",
       "    fill: var(--disabled-fill-color);\n",
       "    box-shadow: none;\n",
       "  }\n",
       "\n",
       "  .colab-df-spinner {\n",
       "    border: 2px solid var(--fill-color);\n",
       "    border-color: transparent;\n",
       "    border-bottom-color: var(--fill-color);\n",
       "    animation:\n",
       "      spin 1s steps(1) infinite;\n",
       "  }\n",
       "\n",
       "  @keyframes spin {\n",
       "    0% {\n",
       "      border-color: transparent;\n",
       "      border-bottom-color: var(--fill-color);\n",
       "      border-left-color: var(--fill-color);\n",
       "    }\n",
       "    20% {\n",
       "      border-color: transparent;\n",
       "      border-left-color: var(--fill-color);\n",
       "      border-top-color: var(--fill-color);\n",
       "    }\n",
       "    30% {\n",
       "      border-color: transparent;\n",
       "      border-left-color: var(--fill-color);\n",
       "      border-top-color: var(--fill-color);\n",
       "      border-right-color: var(--fill-color);\n",
       "    }\n",
       "    40% {\n",
       "      border-color: transparent;\n",
       "      border-right-color: var(--fill-color);\n",
       "      border-top-color: var(--fill-color);\n",
       "    }\n",
       "    60% {\n",
       "      border-color: transparent;\n",
       "      border-right-color: var(--fill-color);\n",
       "    }\n",
       "    80% {\n",
       "      border-color: transparent;\n",
       "      border-right-color: var(--fill-color);\n",
       "      border-bottom-color: var(--fill-color);\n",
       "    }\n",
       "    90% {\n",
       "      border-color: transparent;\n",
       "      border-bottom-color: var(--fill-color);\n",
       "    }\n",
       "  }\n",
       "</style>\n",
       "\n",
       "  <script>\n",
       "    async function quickchart(key) {\n",
       "      const quickchartButtonEl =\n",
       "        document.querySelector('#' + key + ' button');\n",
       "      quickchartButtonEl.disabled = true;  // To prevent multiple clicks.\n",
       "      quickchartButtonEl.classList.add('colab-df-spinner');\n",
       "      try {\n",
       "        const charts = await google.colab.kernel.invokeFunction(\n",
       "            'suggestCharts', [key], {});\n",
       "      } catch (error) {\n",
       "        console.error('Error during call to suggestCharts:', error);\n",
       "      }\n",
       "      quickchartButtonEl.classList.remove('colab-df-spinner');\n",
       "      quickchartButtonEl.classList.add('colab-df-quickchart-complete');\n",
       "    }\n",
       "    (() => {\n",
       "      let quickchartButtonEl =\n",
       "        document.querySelector('#df-6220a27c-3b05-4e37-b380-6fdd1d72dda1 button');\n",
       "      quickchartButtonEl.style.display =\n",
       "        google.colab.kernel.accessAllowed ? 'block' : 'none';\n",
       "    })();\n",
       "  </script>\n",
       "</div>\n",
       "\n",
       "    </div>\n",
       "  </div>\n"
      ],
      "text/plain": [
       "     label                                            message\n",
       "0     spam  Luxurious 2/3 BHK lifestyle Apts at sec 137 No...\n",
       "1     spam  Guinness Record!,World�s most pierced women! C...\n",
       "2     spam  Jalebee or DK Bose?,Help break this tie. We ha...\n",
       "3     spam  Test for Yuvraj,How many Test centuries has Yu...\n",
       "4     spam  Harry Potter...,How is Harry Potter & the Pris...\n",
       "...    ...                                                ...\n",
       "1994   ham  Husband: Mai tumhari roz ki farmaishon se tang...\n",
       "1995   ham  HUSBAND WIFE se bola HATA Lo Apne Chehre Se Ye...\n",
       "1996   ham  Husband To Wife-Tum Meri Zindagi HoOrWIFE-Or K...\n",
       "1997   ham  HUSBAND to WIFE HATA Lo Apne Chehre Se Ye Zulf...\n",
       "1998   ham  indgi Me 2Logo Ka Bahut Khyal Rakhna: 1) Jisne...\n",
       "\n",
       "[1983 rows x 2 columns]"
      ]
     },
     "execution_count": 11,
     "metadata": {},
     "output_type": "execute_result"
    }
   ],
   "source": [
    "df.drop_duplicates()"
   ]
  },
  {
   "cell_type": "code",
   "execution_count": null,
   "metadata": {
    "colab": {
     "base_uri": "https://localhost:8080/",
     "height": 112
    },
    "id": "Z6aaU_XXUAdP",
    "outputId": "0ab9c55e-33bd-401b-f8ed-3561636daa92"
   },
   "outputs": [
    {
     "data": {
      "application/vnd.google.colaboratory.intrinsic+json": {
       "summary": "{\n  \"name\": \"df\",\n  \"rows\": 2,\n  \"fields\": [\n    {\n      \"column\": \"count\",\n      \"properties\": {\n        \"dtype\": \"date\",\n        \"min\": \"1999\",\n        \"max\": \"1999\",\n        \"num_unique_values\": 1,\n        \"samples\": [\n          \"1999\"\n        ],\n        \"semantic_type\": \"\",\n        \"description\": \"\"\n      }\n    },\n    {\n      \"column\": \"unique\",\n      \"properties\": {\n        \"dtype\": \"date\",\n        \"min\": 2,\n        \"max\": 1983,\n        \"num_unique_values\": 2,\n        \"samples\": [\n          1983\n        ],\n        \"semantic_type\": \"\",\n        \"description\": \"\"\n      }\n    },\n    {\n      \"column\": \"top\",\n      \"properties\": {\n        \"dtype\": \"string\",\n        \"num_unique_values\": 2,\n        \"samples\": [\n          \"I got an email yesterday. You also probably received it. They are starting their recruitment process. The question is, did they select smit? Find out.\"\n        ],\n        \"semantic_type\": \"\",\n        \"description\": \"\"\n      }\n    },\n    {\n      \"column\": \"freq\",\n      \"properties\": {\n        \"dtype\": \"date\",\n        \"min\": \"2\",\n        \"max\": \"1000\",\n        \"num_unique_values\": 2,\n        \"samples\": [\n          \"2\"\n        ],\n        \"semantic_type\": \"\",\n        \"description\": \"\"\n      }\n    }\n  ]\n}",
       "type": "dataframe"
      },
      "text/html": [
       "\n",
       "  <div id=\"df-e2460a77-098b-4bf6-b854-db5accc7d5c4\" class=\"colab-df-container\">\n",
       "    <div>\n",
       "<style scoped>\n",
       "    .dataframe tbody tr th:only-of-type {\n",
       "        vertical-align: middle;\n",
       "    }\n",
       "\n",
       "    .dataframe tbody tr th {\n",
       "        vertical-align: top;\n",
       "    }\n",
       "\n",
       "    .dataframe thead th {\n",
       "        text-align: right;\n",
       "    }\n",
       "</style>\n",
       "<table border=\"1\" class=\"dataframe\">\n",
       "  <thead>\n",
       "    <tr style=\"text-align: right;\">\n",
       "      <th></th>\n",
       "      <th>count</th>\n",
       "      <th>unique</th>\n",
       "      <th>top</th>\n",
       "      <th>freq</th>\n",
       "    </tr>\n",
       "  </thead>\n",
       "  <tbody>\n",
       "    <tr>\n",
       "      <th>label</th>\n",
       "      <td>1999</td>\n",
       "      <td>2</td>\n",
       "      <td>spam</td>\n",
       "      <td>1000</td>\n",
       "    </tr>\n",
       "    <tr>\n",
       "      <th>message</th>\n",
       "      <td>1999</td>\n",
       "      <td>1983</td>\n",
       "      <td>I got an email yesterday. You also probably re...</td>\n",
       "      <td>2</td>\n",
       "    </tr>\n",
       "  </tbody>\n",
       "</table>\n",
       "</div>\n",
       "    <div class=\"colab-df-buttons\">\n",
       "\n",
       "  <div class=\"colab-df-container\">\n",
       "    <button class=\"colab-df-convert\" onclick=\"convertToInteractive('df-e2460a77-098b-4bf6-b854-db5accc7d5c4')\"\n",
       "            title=\"Convert this dataframe to an interactive table.\"\n",
       "            style=\"display:none;\">\n",
       "\n",
       "  <svg xmlns=\"http://www.w3.org/2000/svg\" height=\"24px\" viewBox=\"0 -960 960 960\">\n",
       "    <path d=\"M120-120v-720h720v720H120Zm60-500h600v-160H180v160Zm220 220h160v-160H400v160Zm0 220h160v-160H400v160ZM180-400h160v-160H180v160Zm440 0h160v-160H620v160ZM180-180h160v-160H180v160Zm440 0h160v-160H620v160Z\"/>\n",
       "  </svg>\n",
       "    </button>\n",
       "\n",
       "  <style>\n",
       "    .colab-df-container {\n",
       "      display:flex;\n",
       "      gap: 12px;\n",
       "    }\n",
       "\n",
       "    .colab-df-convert {\n",
       "      background-color: #E8F0FE;\n",
       "      border: none;\n",
       "      border-radius: 50%;\n",
       "      cursor: pointer;\n",
       "      display: none;\n",
       "      fill: #1967D2;\n",
       "      height: 32px;\n",
       "      padding: 0 0 0 0;\n",
       "      width: 32px;\n",
       "    }\n",
       "\n",
       "    .colab-df-convert:hover {\n",
       "      background-color: #E2EBFA;\n",
       "      box-shadow: 0px 1px 2px rgba(60, 64, 67, 0.3), 0px 1px 3px 1px rgba(60, 64, 67, 0.15);\n",
       "      fill: #174EA6;\n",
       "    }\n",
       "\n",
       "    .colab-df-buttons div {\n",
       "      margin-bottom: 4px;\n",
       "    }\n",
       "\n",
       "    [theme=dark] .colab-df-convert {\n",
       "      background-color: #3B4455;\n",
       "      fill: #D2E3FC;\n",
       "    }\n",
       "\n",
       "    [theme=dark] .colab-df-convert:hover {\n",
       "      background-color: #434B5C;\n",
       "      box-shadow: 0px 1px 3px 1px rgba(0, 0, 0, 0.15);\n",
       "      filter: drop-shadow(0px 1px 2px rgba(0, 0, 0, 0.3));\n",
       "      fill: #FFFFFF;\n",
       "    }\n",
       "  </style>\n",
       "\n",
       "    <script>\n",
       "      const buttonEl =\n",
       "        document.querySelector('#df-e2460a77-098b-4bf6-b854-db5accc7d5c4 button.colab-df-convert');\n",
       "      buttonEl.style.display =\n",
       "        google.colab.kernel.accessAllowed ? 'block' : 'none';\n",
       "\n",
       "      async function convertToInteractive(key) {\n",
       "        const element = document.querySelector('#df-e2460a77-098b-4bf6-b854-db5accc7d5c4');\n",
       "        const dataTable =\n",
       "          await google.colab.kernel.invokeFunction('convertToInteractive',\n",
       "                                                    [key], {});\n",
       "        if (!dataTable) return;\n",
       "\n",
       "        const docLinkHtml = 'Like what you see? Visit the ' +\n",
       "          '<a target=\"_blank\" href=https://colab.research.google.com/notebooks/data_table.ipynb>data table notebook</a>'\n",
       "          + ' to learn more about interactive tables.';\n",
       "        element.innerHTML = '';\n",
       "        dataTable['output_type'] = 'display_data';\n",
       "        await google.colab.output.renderOutput(dataTable, element);\n",
       "        const docLink = document.createElement('div');\n",
       "        docLink.innerHTML = docLinkHtml;\n",
       "        element.appendChild(docLink);\n",
       "      }\n",
       "    </script>\n",
       "  </div>\n",
       "\n",
       "\n",
       "<div id=\"df-52bf859f-8b41-49c5-aea9-1ea4a4e84d0b\">\n",
       "  <button class=\"colab-df-quickchart\" onclick=\"quickchart('df-52bf859f-8b41-49c5-aea9-1ea4a4e84d0b')\"\n",
       "            title=\"Suggest charts\"\n",
       "            style=\"display:none;\">\n",
       "\n",
       "<svg xmlns=\"http://www.w3.org/2000/svg\" height=\"24px\"viewBox=\"0 0 24 24\"\n",
       "     width=\"24px\">\n",
       "    <g>\n",
       "        <path d=\"M19 3H5c-1.1 0-2 .9-2 2v14c0 1.1.9 2 2 2h14c1.1 0 2-.9 2-2V5c0-1.1-.9-2-2-2zM9 17H7v-7h2v7zm4 0h-2V7h2v10zm4 0h-2v-4h2v4z\"/>\n",
       "    </g>\n",
       "</svg>\n",
       "  </button>\n",
       "\n",
       "<style>\n",
       "  .colab-df-quickchart {\n",
       "      --bg-color: #E8F0FE;\n",
       "      --fill-color: #1967D2;\n",
       "      --hover-bg-color: #E2EBFA;\n",
       "      --hover-fill-color: #174EA6;\n",
       "      --disabled-fill-color: #AAA;\n",
       "      --disabled-bg-color: #DDD;\n",
       "  }\n",
       "\n",
       "  [theme=dark] .colab-df-quickchart {\n",
       "      --bg-color: #3B4455;\n",
       "      --fill-color: #D2E3FC;\n",
       "      --hover-bg-color: #434B5C;\n",
       "      --hover-fill-color: #FFFFFF;\n",
       "      --disabled-bg-color: #3B4455;\n",
       "      --disabled-fill-color: #666;\n",
       "  }\n",
       "\n",
       "  .colab-df-quickchart {\n",
       "    background-color: var(--bg-color);\n",
       "    border: none;\n",
       "    border-radius: 50%;\n",
       "    cursor: pointer;\n",
       "    display: none;\n",
       "    fill: var(--fill-color);\n",
       "    height: 32px;\n",
       "    padding: 0;\n",
       "    width: 32px;\n",
       "  }\n",
       "\n",
       "  .colab-df-quickchart:hover {\n",
       "    background-color: var(--hover-bg-color);\n",
       "    box-shadow: 0 1px 2px rgba(60, 64, 67, 0.3), 0 1px 3px 1px rgba(60, 64, 67, 0.15);\n",
       "    fill: var(--button-hover-fill-color);\n",
       "  }\n",
       "\n",
       "  .colab-df-quickchart-complete:disabled,\n",
       "  .colab-df-quickchart-complete:disabled:hover {\n",
       "    background-color: var(--disabled-bg-color);\n",
       "    fill: var(--disabled-fill-color);\n",
       "    box-shadow: none;\n",
       "  }\n",
       "\n",
       "  .colab-df-spinner {\n",
       "    border: 2px solid var(--fill-color);\n",
       "    border-color: transparent;\n",
       "    border-bottom-color: var(--fill-color);\n",
       "    animation:\n",
       "      spin 1s steps(1) infinite;\n",
       "  }\n",
       "\n",
       "  @keyframes spin {\n",
       "    0% {\n",
       "      border-color: transparent;\n",
       "      border-bottom-color: var(--fill-color);\n",
       "      border-left-color: var(--fill-color);\n",
       "    }\n",
       "    20% {\n",
       "      border-color: transparent;\n",
       "      border-left-color: var(--fill-color);\n",
       "      border-top-color: var(--fill-color);\n",
       "    }\n",
       "    30% {\n",
       "      border-color: transparent;\n",
       "      border-left-color: var(--fill-color);\n",
       "      border-top-color: var(--fill-color);\n",
       "      border-right-color: var(--fill-color);\n",
       "    }\n",
       "    40% {\n",
       "      border-color: transparent;\n",
       "      border-right-color: var(--fill-color);\n",
       "      border-top-color: var(--fill-color);\n",
       "    }\n",
       "    60% {\n",
       "      border-color: transparent;\n",
       "      border-right-color: var(--fill-color);\n",
       "    }\n",
       "    80% {\n",
       "      border-color: transparent;\n",
       "      border-right-color: var(--fill-color);\n",
       "      border-bottom-color: var(--fill-color);\n",
       "    }\n",
       "    90% {\n",
       "      border-color: transparent;\n",
       "      border-bottom-color: var(--fill-color);\n",
       "    }\n",
       "  }\n",
       "</style>\n",
       "\n",
       "  <script>\n",
       "    async function quickchart(key) {\n",
       "      const quickchartButtonEl =\n",
       "        document.querySelector('#' + key + ' button');\n",
       "      quickchartButtonEl.disabled = true;  // To prevent multiple clicks.\n",
       "      quickchartButtonEl.classList.add('colab-df-spinner');\n",
       "      try {\n",
       "        const charts = await google.colab.kernel.invokeFunction(\n",
       "            'suggestCharts', [key], {});\n",
       "      } catch (error) {\n",
       "        console.error('Error during call to suggestCharts:', error);\n",
       "      }\n",
       "      quickchartButtonEl.classList.remove('colab-df-spinner');\n",
       "      quickchartButtonEl.classList.add('colab-df-quickchart-complete');\n",
       "    }\n",
       "    (() => {\n",
       "      let quickchartButtonEl =\n",
       "        document.querySelector('#df-52bf859f-8b41-49c5-aea9-1ea4a4e84d0b button');\n",
       "      quickchartButtonEl.style.display =\n",
       "        google.colab.kernel.accessAllowed ? 'block' : 'none';\n",
       "    })();\n",
       "  </script>\n",
       "</div>\n",
       "\n",
       "    </div>\n",
       "  </div>\n"
      ],
      "text/plain": [
       "        count unique                                                top  freq\n",
       "label    1999      2                                               spam  1000\n",
       "message  1999   1983  I got an email yesterday. You also probably re...     2"
      ]
     },
     "execution_count": 12,
     "metadata": {},
     "output_type": "execute_result"
    }
   ],
   "source": [
    "df.describe().T"
   ]
  },
  {
   "cell_type": "code",
   "execution_count": null,
   "metadata": {
    "colab": {
     "base_uri": "https://localhost:8080/",
     "height": 178
    },
    "id": "mGUqGh1hEEoW",
    "outputId": "51a25b6e-076d-4a3b-874a-52da7f3a98e1"
   },
   "outputs": [
    {
     "data": {
      "text/html": [
       "<div>\n",
       "<style scoped>\n",
       "    .dataframe tbody tr th:only-of-type {\n",
       "        vertical-align: middle;\n",
       "    }\n",
       "\n",
       "    .dataframe tbody tr th {\n",
       "        vertical-align: top;\n",
       "    }\n",
       "\n",
       "    .dataframe thead th {\n",
       "        text-align: right;\n",
       "    }\n",
       "</style>\n",
       "<table border=\"1\" class=\"dataframe\">\n",
       "  <thead>\n",
       "    <tr style=\"text-align: right;\">\n",
       "      <th></th>\n",
       "      <th>count</th>\n",
       "    </tr>\n",
       "    <tr>\n",
       "      <th>label</th>\n",
       "      <th></th>\n",
       "    </tr>\n",
       "  </thead>\n",
       "  <tbody>\n",
       "    <tr>\n",
       "      <th>spam</th>\n",
       "      <td>1000</td>\n",
       "    </tr>\n",
       "    <tr>\n",
       "      <th>ham</th>\n",
       "      <td>999</td>\n",
       "    </tr>\n",
       "  </tbody>\n",
       "</table>\n",
       "</div><br><label><b>dtype:</b> int64</label>"
      ],
      "text/plain": [
       "label\n",
       "spam    1000\n",
       "ham      999\n",
       "Name: count, dtype: int64"
      ]
     },
     "execution_count": 13,
     "metadata": {},
     "output_type": "execute_result"
    }
   ],
   "source": [
    "df['label'].value_counts()"
   ]
  },
  {
   "cell_type": "code",
   "execution_count": null,
   "metadata": {
    "colab": {
     "base_uri": "https://localhost:8080/"
    },
    "id": "3HCH0H78HsS3",
    "outputId": "7f8a8943-89aa-49b7-fcb4-234bbbc31b36"
   },
   "outputs": [
    {
     "name": "stdout",
     "output_type": "stream",
     "text": [
      "0       Luxurious 2/3 BHK lifestyle Apts at sec 137 No...\n",
      "1       Guinness Record!,World�s most pierced women! C...\n",
      "2       Jalebee or DK Bose?,Help break this tie. We ha...\n",
      "3       Test for Yuvraj,How many Test centuries has Yu...\n",
      "4       Harry Potter...,How is Harry Potter & the Pris...\n",
      "                              ...                        \n",
      "1994    Husband: Mai tumhari roz ki farmaishon se tang...\n",
      "1995    HUSBAND WIFE se bola HATA Lo Apne Chehre Se Ye...\n",
      "1996    Husband To Wife-Tum Meri Zindagi HoOrWIFE-Or K...\n",
      "1997    HUSBAND to WIFE HATA Lo Apne Chehre Se Ye Zulf...\n",
      "1998    indgi Me 2Logo Ka Bahut Khyal Rakhna: 1) Jisne...\n",
      "Name: message, Length: 1999, dtype: object\n"
     ]
    }
   ],
   "source": [
    "print(df['message'])"
   ]
  },
  {
   "cell_type": "markdown",
   "metadata": {
    "id": "d6orIoErHH1i"
   },
   "source": [
    "# **2. Feature Inclusion and Selection**"
   ]
  },
  {
   "cell_type": "code",
   "execution_count": null,
   "metadata": {
    "colab": {
     "base_uri": "https://localhost:8080/"
    },
    "id": "1xueA3LBG_VF",
    "outputId": "8111fb54-cc7f-43a7-c209-d79a9353809e"
   },
   "outputs": [
    {
     "name": "stdout",
     "output_type": "stream",
     "text": [
      "0       28\n",
      "1       24\n",
      "2       38\n",
      "3       28\n",
      "4       51\n",
      "        ..\n",
      "1994    25\n",
      "1995    27\n",
      "1996    19\n",
      "1997    26\n",
      "1998    26\n",
      "Name: word_count, Length: 1999, dtype: int64\n"
     ]
    }
   ],
   "source": [
    "import time\n",
    "start = time.time()\n",
    "#1. word count\n",
    "##df['word_count'] = df['message'].apply(lambda x: len(x.split()))\n",
    "df['word_count'] = df['message'].astype(str).apply(lambda x: len(x.split()))\n",
    "print(df['word_count'])"
   ]
  },
  {
   "cell_type": "code",
   "execution_count": null,
   "metadata": {
    "id": "dpJyZqGKebao"
   },
   "outputs": [],
   "source": [
    "#2. character count\n",
    "##df['F1_char_count'] = df['message'].apply(lambda x: 1 if len(x) >= 60 else 0)\n",
    "\n",
    "df['F1_char_count'] = df['message'].astype(str).apply(len)\n",
    "\n",
    "#df['char_count'] = df['message'].apply(len)"
   ]
  },
  {
   "cell_type": "code",
   "execution_count": null,
   "metadata": {
    "id": "QZidcvsa-pPf"
   },
   "outputs": [],
   "source": [
    "import re\n",
    "\n",
    "# Define a pattern for special symbols\n",
    "special_symbol_pattern = r'[@#$%^&*?!~\\-/\\\\|]'\n",
    "\n",
    "# Assign 1 if any special symbol is present, else 0\n",
    "df['F2_Presence_of_Special_symbol'] = df['message'].astype(str).apply(lambda x: 1 if re.search(special_symbol_pattern, x) else 0)\n",
    "\n",
    "##print(df[['message', 'special_symbol_present']])\n"
   ]
  },
  {
   "cell_type": "code",
   "execution_count": null,
   "metadata": {
    "id": "IZg9sGmDH7kB"
   },
   "outputs": [],
   "source": [
    "#3.  average word length\n",
    "df['char_count_1'] = df['message'].astype(str).apply(len)\n",
    "\n",
    "##df['F3_avg_word_length'] = df.apply(lambda row: 1 if (row['char_count_1'] / (row['word_count'] + 1e-5)) > 5.4 else 0, axis=1)\n",
    "\n",
    "df['F3_avg_word_length'] = df['char_count_1'] / (df['word_count'] + 1e-5)"
   ]
  },
  {
   "cell_type": "code",
   "execution_count": null,
   "metadata": {
    "id": "5c-UxXQMH8gP"
   },
   "outputs": [],
   "source": [
    "#4. punctuations count (used for spam detection...exclamatory marks and all)\n",
    "##import string\n",
    "\n",
    "\n",
    "##df['punctuation_count'] = df['message'].apply(lambda x: 1 if any(char in string.punctuation for char in x) else 0)\n",
    "\n",
    "# Regular Expression to detect 3 to 5-digit numbers\n",
    "pattern = r'\\b\\d{3,5}\\b'\n",
    "\n",
    "# Assign 1 if match found, else 0\n",
    "df['F4_subscriber_ID'] = df['message'].astype(str).apply(lambda x: 1 if re.search(pattern, x) else 0)"
   ]
  },
  {
   "cell_type": "code",
   "execution_count": null,
   "metadata": {
    "id": "WZPZogglIDyF"
   },
   "outputs": [],
   "source": [
    "#5. link counting (important part...easy for spam detection if exists)\n",
    "import re\n",
    "\n",
    "df['F5_Presence_of_link'] = df['message'].astype(str).apply(lambda x: 1 if re.search(\n",
    "    r'((https?://|www\\.|[a-zA-Z0-9.-]+\\.[a-zA-Z]{2,})(\\S*)|'\n",
    "    r'\\b(bit\\.ly|wa\\.me|t\\.co|tinyurl\\.com|goo\\.gl|shorte\\.st|'\n",
    "    r'ow\\.ly|is\\.gd|buff\\.ly|adf\\.ly|bitly\\.com|tr\\.im|'\n",
    "    r'cutt\\.ly|rb\\.gy|bl\\.ink|cli\\.ck|rebrand\\.ly|'\n",
    "    r'lnkd\\.in|t2m\\.io|v\\.gd|yourls\\.org|snipurl\\.com|'\n",
    "    r'soo\\.gd|qr\\.ae|x\\.co|clck\\.ru|surl\\.cn)\\b)', x) else 0)"
   ]
  },
  {
   "cell_type": "code",
   "execution_count": null,
   "metadata": {
    "id": "ufrvcm9lI4Qd"
   },
   "outputs": [],
   "source": [
    "#6. Emoji Count\n",
    "import emoji\n",
    "df['F6_emoji_count'] = df['message'].astype(str).apply(lambda x: 1 if any(emoji.is_emoji(char) for char in x) else 0)"
   ]
  },
  {
   "cell_type": "code",
   "execution_count": null,
   "metadata": {
    "id": "T9hOgS_AKltR"
   },
   "outputs": [],
   "source": [
    "#8. currency symbol and money count (another important step)\n",
    "import re\n",
    "\n",
    "currency_symbols = ['₹', '$', '€', '£', '¥', '₽', '₩', '₺', '₱', 'Rs', 'rs', 'रुपये', 'रु',\n",
    "    \"฿\",  # Thai Baht\n",
    "    \"₫\",  # Vietnamese Dong\n",
    "    \"₴\",  # Ukrainian Hryvnia\n",
    "    \"₪\",  # Israeli New Shekel\n",
    "    \"₱\",  # Philippine Peso\n",
    "    \"₦\",  # Nigerian Naira\n",
    "    \"₲\",  # Paraguayan Guarani\n",
    "    \"₵\",  # Ghanaian Cedi\n",
    "    \"₭\",  # Lao Kip\n",
    "    \"₮\",  # Mongolian Tögrög\n",
    "    \"₡\",  # Costa Rican Colón\n",
    "    \"₨\",  # Pakistani Rupee / Sri Lankan Rupee / Nepalese Rupee\n",
    "    \"₸\",  # Kazakhstani Tenge\n",
    "    \"₺\",  # Turkish Lira\n",
    "    \"₼\",  # Azerbaijani Manat\n",
    "    \"₾\",  # Georgian Lari\n",
    "    \"؋\",  # Afghan Afghani\n",
    "]\n",
    "\n",
    "money_pattern = re.compile(r'\\b\\d{1,4}(,\\d{3})*(\\.\\d{1,2})?\\b')  # Matches monetary values (e.g., 1,000.00)\n",
    "\n",
    "def has_currency_symbol(message):\n",
    "    # Check if any currency symbol is present\n",
    "    symbol_present = any(char in currency_symbols for char in message)\n",
    "\n",
    "    # Check if any monetary value is present\n",
    "    money_present = bool(money_pattern.search(message))\n",
    "\n",
    "    return 1 if symbol_present or money_present else 0\n",
    "\n",
    "df['F7_Presence of currency_symbol'] = df['message'].astype(str).apply(has_currency_symbol)"
   ]
  },
  {
   "cell_type": "code",
   "execution_count": null,
   "metadata": {
    "id": "hTzirzcq0hEs"
   },
   "outputs": [],
   "source": [
    "import re\n",
    "\n",
    "phone_number_pattern = r'(?:\\+?\\d{1,4}[-\\s]?)?(?:0)?[1-9]\\d{8,13}\\b'\n",
    "\n",
    "df['F8_Presence_of_phone_number'] = df['message'].astype(str).apply(\n",
    "    lambda x: 1 if re.search(phone_number_pattern, x) else 0\n",
    ")"
   ]
  },
  {
   "cell_type": "code",
   "execution_count": null,
   "metadata": {
    "id": "B9nWjTeYyUgZ"
   },
   "outputs": [],
   "source": [
    "date_time_pattern = r\"\"\"\n",
    "    (                               # Start of capturing group for date/time\n",
    "        (?:                         # Non-capturing group for different date formats\n",
    "            (?:\\d{1,2}[/-]\\d{1,2}[/-]\\d{2,4}) |           # Formats like 12/09/2023, 12-09-23\n",
    "            (?:\\d{4}[/-]\\d{1,2}[/-]\\d{1,2}) |             # Formats like 2023-09-12\n",
    "            (?:\\d{1,2}\\s(?:Jan|Feb|Mar|Apr|May|Jun|Jul|Aug|Sep|Oct|Nov|Dec)[a-z]*\\s\\d{2,4}) |  # Formats like 12 Sep 2023\n",
    "            (?:\\b(?:Jan|Feb|Mar|Apr|May|Jun|Jul|Aug|Sep|Oct|Nov|Dec)[a-z]*\\s\\d{1,2},?\\s\\d{2,4})  # Formats like Sep 12, 2023\n",
    "        )\n",
    "        (?:\\s*                      # Optional space between date and time\n",
    "            (?:at\\s*)?              # Optional 'at' before time\n",
    "            (?:                     # Time formats\n",
    "                (?:\\d{1,2}:\\d{2}(?::\\d{2})?\\s*(?:AM|PM|am|pm)?) |  # Time with AM/PM, e.g., 12:30 PM\n",
    "                (?:\\d{1,2}:\\d{2}(?::\\d{2})?)                       # 24-hour format, e.g., 14:30 or 14:30:00\n",
    "            )\n",
    "        )?\n",
    "    )\n",
    "\"\"\"\n",
    "\n",
    "# Compile with verbose flag for readability\n",
    "pattern = re.compile(date_time_pattern, re.VERBOSE)\n",
    "\n",
    "\n",
    "# Find all matches\n",
    "##matches = pattern.findall(text)\n",
    "\n",
    "df['F9_Presence_of_dateandtime'] = df['message'].astype(str).apply(\n",
    "    lambda x: 1 if len(pattern.findall(x)) > 0 else 0\n",
    ")\n",
    "\n"
   ]
  },
  {
   "cell_type": "markdown",
   "metadata": {
    "id": "0EHTudLnm0cP"
   },
   "source": []
  },
  {
   "cell_type": "markdown",
   "metadata": {
    "id": "h4foBRjiIHeF"
   },
   "source": [
    "# **4. Advanced Features**"
   ]
  },
  {
   "cell_type": "code",
   "execution_count": null,
   "metadata": {
    "id": "RSpTjDgGB71X"
   },
   "outputs": [],
   "source": [
    "#10. english character count\n",
    "import re\n",
    "\n",
    "#df['F10_Code_mix'] = df['message'].apply(\n",
    "#    lambda x: 1 if re.search(r'[a-zA-Z]', x) else 0\n",
    "#)\n",
    "\n",
    "\n",
    "import re\n",
    "\n",
    "# Function to detect English + Non-English language mix\n",
    "def detect_language_mix(text):\n",
    "    english_pattern = r'[A-Za-z]'  # English characters (a-z, A-Z)\n",
    "    non_english_pattern = r'[^\\x00-\\x7F]'  # Non-ASCII characters (for most non-English scripts)\n",
    "\n",
    "    has_english = bool(re.search(english_pattern, text))\n",
    "    has_non_english = bool(re.search(non_english_pattern, text))\n",
    "\n",
    "    return has_english and has_non_english\n",
    "\n",
    "# Apply to DataFrame\n",
    "df['F10_Language_Mix'] = df['message'].astype(str).apply(lambda x: 1 if detect_language_mix(x) else 0)\n"
   ]
  },
  {
   "cell_type": "code",
   "execution_count": null,
   "metadata": {
    "id": "86D699ZIDWzj"
   },
   "outputs": [],
   "source": [
    "#11. total unique words count ( this will help us when divided with the ratio, as spam sometimes has values repeated)\n",
    "df['F11_Distinct_words'] = df['message'].astype(str).apply(lambda x: len(set(x.split())))"
   ]
  },
  {
   "cell_type": "code",
   "execution_count": null,
   "metadata": {
    "id": "JqcoepBwDhEC"
   },
   "outputs": [],
   "source": [
    "#12. unique ratio\n",
    "df['F12_Distinct_ratio'] = df['F11_Distinct_words'] / (df['word_count'])"
   ]
  },
  {
   "cell_type": "markdown",
   "metadata": {
    "id": "tvuCilYuIdH0"
   },
   "source": [
    "# **5. Readability Scores using text-stat metrics**\n",
    "\n",
    "\n",
    "1.   Flesch Reading Scale\n",
    "2.   Gunning Fog\n",
    "3. Smog Index\n",
    "\n"
   ]
  },
  {
   "cell_type": "code",
   "execution_count": null,
   "metadata": {
    "id": "W8tCDZ2jE5yF"
   },
   "outputs": [],
   "source": [
    "#13. Readability Scores\n",
    "\n",
    "import textstat\n",
    "\n",
    "##df['F12_flesch_reading_ease'] = df['message'].apply(lambda x: 1 if (textstat.flesch_reading_ease(x)<105) else 0)\n",
    "\n",
    "\n",
    "# Apply Flesch Reading Ease score calculation\n",
    "df['F13_flesch_reading_ease'] = df['message'].astype(str).apply(lambda x: textstat.flesch_reading_ease(x))\n",
    "\n",
    "\n",
    "##df['F13_gunning_fog'] = df['message'].apply(lambda x: 1 if (textstat.gunning_fog(x)>4.6) else 0)\n",
    "\n",
    "df['F14_gunning_fog'] = df['message'].astype(str).apply(lambda x: textstat.gunning_fog(x))\n",
    "\n",
    "\n",
    "##df['F14_smog_index'] = df['message'].apply(lambda x: textstat.smog_index(x))\n",
    "\n",
    "df['F15_smog_index'] = df['message'].astype(str).apply(lambda x: textstat.smog_index(x))\n"
   ]
  },
  {
   "cell_type": "code",
   "execution_count": null,
   "metadata": {
    "id": "_eLYBFj2IzrW"
   },
   "outputs": [],
   "source": [
    "#I want to find an equation to calculate all three of these reading score as a single reading score using some constants.\n",
    "#avg reading score = ((flesh + gunning + 2(smog))/3) 1e-2"
   ]
  },
  {
   "cell_type": "code",
   "execution_count": null,
   "metadata": {
    "id": "aLm-Mc5eOhAB"
   },
   "outputs": [],
   "source": [
    "df['F16_average_readability'] = ((3*df['F13_flesch_reading_ease'] - 3*df['F14_gunning_fog'] - (3*(df['F15_smog_index'])))) / 4\n"
   ]
  },
  {
   "cell_type": "code",
   "execution_count": null,
   "metadata": {
    "id": "-KReBkDdEZl_"
   },
   "outputs": [],
   "source": [
    "##df"
   ]
  },
  {
   "cell_type": "code",
   "execution_count": null,
   "metadata": {
    "id": "pgZs7pAhFNpA"
   },
   "outputs": [],
   "source": [
    "##14. Sentences count and length using reg-ex\n",
    "import re\n",
    "df['sentence_count'] = df['message'].astype(str).apply(lambda x: len(re.split('[।|?|!]', x)))\n",
    "df['F17_avg_sentence_length'] = df['message'].astype(str).apply(lambda x: len(x.split()) / max(1, len(re.split('[।|?|!]', x))))\n"
   ]
  },
  {
   "cell_type": "code",
   "execution_count": null,
   "metadata": {
    "colab": {
     "base_uri": "https://localhost:8080/"
    },
    "id": "w-BqGCIiS2jt",
    "outputId": "7c65d518-6463-4094-e9b7-30218c5b8fea"
   },
   "outputs": [
    {
     "name": "stdout",
     "output_type": "stream",
     "text": [
      "4.166506767272949\n"
     ]
    }
   ],
   "source": [
    "Feature_extraction_time = time.time()-start\n",
    "print(Feature_extraction_time)"
   ]
  },
  {
   "cell_type": "code",
   "execution_count": null,
   "metadata": {
    "id": "5QPmAPiNFn3V"
   },
   "outputs": [],
   "source": [
    "df.drop(['message','char_count_1','word_count','sentence_count'],axis=1, inplace=True)"
   ]
  },
  {
   "cell_type": "code",
   "execution_count": null,
   "metadata": {
    "colab": {
     "base_uri": "https://localhost:8080/",
     "height": 87
    },
    "id": "Dea-ry_8IzKd",
    "outputId": "d591a457-1d02-4505-9a87-7aca0d40353f"
   },
   "outputs": [
    {
     "data": {
      "application/vnd.google.colaboratory.intrinsic+json": {
       "repr_error": "Out of range float values are not JSON compliant: nan",
       "type": "dataframe"
      },
      "text/html": [
       "\n",
       "  <div id=\"df-d493f283-a036-4d4c-9794-931d35d4f892\" class=\"colab-df-container\">\n",
       "    <div>\n",
       "<style scoped>\n",
       "    .dataframe tbody tr th:only-of-type {\n",
       "        vertical-align: middle;\n",
       "    }\n",
       "\n",
       "    .dataframe tbody tr th {\n",
       "        vertical-align: top;\n",
       "    }\n",
       "\n",
       "    .dataframe thead th {\n",
       "        text-align: right;\n",
       "    }\n",
       "</style>\n",
       "<table border=\"1\" class=\"dataframe\">\n",
       "  <thead>\n",
       "    <tr style=\"text-align: right;\">\n",
       "      <th></th>\n",
       "      <th>label</th>\n",
       "      <th>F1_char_count</th>\n",
       "      <th>F2_Presence_of_Special_symbol</th>\n",
       "      <th>F3_avg_word_length</th>\n",
       "      <th>F4_subscriber_ID</th>\n",
       "      <th>F5_Presence_of_link</th>\n",
       "      <th>F6_emoji_count</th>\n",
       "      <th>F7_Presence of currency_symbol</th>\n",
       "      <th>F8_Presence_of_phone_number</th>\n",
       "      <th>F9_Presence_of_dateandtime</th>\n",
       "      <th>F10_Language_Mix</th>\n",
       "      <th>F11_Distinct_words</th>\n",
       "      <th>F12_Distinct_ratio</th>\n",
       "      <th>F13_flesch_reading_ease</th>\n",
       "      <th>F14_gunning_fog</th>\n",
       "      <th>F15_smog_index</th>\n",
       "      <th>F16_average_readability</th>\n",
       "      <th>F17_avg_sentence_length</th>\n",
       "    </tr>\n",
       "  </thead>\n",
       "  <tbody>\n",
       "  </tbody>\n",
       "</table>\n",
       "</div>\n",
       "    <div class=\"colab-df-buttons\">\n",
       "\n",
       "  <div class=\"colab-df-container\">\n",
       "    <button class=\"colab-df-convert\" onclick=\"convertToInteractive('df-d493f283-a036-4d4c-9794-931d35d4f892')\"\n",
       "            title=\"Convert this dataframe to an interactive table.\"\n",
       "            style=\"display:none;\">\n",
       "\n",
       "  <svg xmlns=\"http://www.w3.org/2000/svg\" height=\"24px\" viewBox=\"0 -960 960 960\">\n",
       "    <path d=\"M120-120v-720h720v720H120Zm60-500h600v-160H180v160Zm220 220h160v-160H400v160Zm0 220h160v-160H400v160ZM180-400h160v-160H180v160Zm440 0h160v-160H620v160ZM180-180h160v-160H180v160Zm440 0h160v-160H620v160Z\"/>\n",
       "  </svg>\n",
       "    </button>\n",
       "\n",
       "  <style>\n",
       "    .colab-df-container {\n",
       "      display:flex;\n",
       "      gap: 12px;\n",
       "    }\n",
       "\n",
       "    .colab-df-convert {\n",
       "      background-color: #E8F0FE;\n",
       "      border: none;\n",
       "      border-radius: 50%;\n",
       "      cursor: pointer;\n",
       "      display: none;\n",
       "      fill: #1967D2;\n",
       "      height: 32px;\n",
       "      padding: 0 0 0 0;\n",
       "      width: 32px;\n",
       "    }\n",
       "\n",
       "    .colab-df-convert:hover {\n",
       "      background-color: #E2EBFA;\n",
       "      box-shadow: 0px 1px 2px rgba(60, 64, 67, 0.3), 0px 1px 3px 1px rgba(60, 64, 67, 0.15);\n",
       "      fill: #174EA6;\n",
       "    }\n",
       "\n",
       "    .colab-df-buttons div {\n",
       "      margin-bottom: 4px;\n",
       "    }\n",
       "\n",
       "    [theme=dark] .colab-df-convert {\n",
       "      background-color: #3B4455;\n",
       "      fill: #D2E3FC;\n",
       "    }\n",
       "\n",
       "    [theme=dark] .colab-df-convert:hover {\n",
       "      background-color: #434B5C;\n",
       "      box-shadow: 0px 1px 3px 1px rgba(0, 0, 0, 0.15);\n",
       "      filter: drop-shadow(0px 1px 2px rgba(0, 0, 0, 0.3));\n",
       "      fill: #FFFFFF;\n",
       "    }\n",
       "  </style>\n",
       "\n",
       "    <script>\n",
       "      const buttonEl =\n",
       "        document.querySelector('#df-d493f283-a036-4d4c-9794-931d35d4f892 button.colab-df-convert');\n",
       "      buttonEl.style.display =\n",
       "        google.colab.kernel.accessAllowed ? 'block' : 'none';\n",
       "\n",
       "      async function convertToInteractive(key) {\n",
       "        const element = document.querySelector('#df-d493f283-a036-4d4c-9794-931d35d4f892');\n",
       "        const dataTable =\n",
       "          await google.colab.kernel.invokeFunction('convertToInteractive',\n",
       "                                                    [key], {});\n",
       "        if (!dataTable) return;\n",
       "\n",
       "        const docLinkHtml = 'Like what you see? Visit the ' +\n",
       "          '<a target=\"_blank\" href=https://colab.research.google.com/notebooks/data_table.ipynb>data table notebook</a>'\n",
       "          + ' to learn more about interactive tables.';\n",
       "        element.innerHTML = '';\n",
       "        dataTable['output_type'] = 'display_data';\n",
       "        await google.colab.output.renderOutput(dataTable, element);\n",
       "        const docLink = document.createElement('div');\n",
       "        docLink.innerHTML = docLinkHtml;\n",
       "        element.appendChild(docLink);\n",
       "      }\n",
       "    </script>\n",
       "  </div>\n",
       "\n",
       "\n",
       "    </div>\n",
       "  </div>\n"
      ],
      "text/plain": [
       "Empty DataFrame\n",
       "Columns: [label, F1_char_count, F2_Presence_of_Special_symbol, F3_avg_word_length, F4_subscriber_ID, F5_Presence_of_link, F6_emoji_count, F7_Presence of currency_symbol, F8_Presence_of_phone_number, F9_Presence_of_dateandtime, F10_Language_Mix, F11_Distinct_words, F12_Distinct_ratio, F13_flesch_reading_ease, F14_gunning_fog, F15_smog_index, F16_average_readability, F17_avg_sentence_length]\n",
       "Index: []"
      ]
     },
     "execution_count": 35,
     "metadata": {},
     "output_type": "execute_result"
    }
   ],
   "source": [
    "df[df.isnull().any(axis=1)]"
   ]
  },
  {
   "cell_type": "code",
   "execution_count": null,
   "metadata": {
    "colab": {
     "base_uri": "https://localhost:8080/",
     "height": 707
    },
    "id": "ujCWLEw3yIel",
    "outputId": "04bcb74a-d445-45c8-c1f7-6b145d403437"
   },
   "outputs": [
    {
     "name": "stdout",
     "output_type": "stream",
     "text": [
      "['F1_char_count', 'F2_Presence_of_Special_symbol', 'F3_avg_word_length', 'F4_subscriber_ID', 'F5_Presence_of_link', 'F6_emoji_count', 'F7_Presence of currency_symbol', 'F8_Presence_of_phone_number', 'F9_Presence_of_dateandtime', 'F10_Language_Mix', 'F11_Distinct_words', 'F12_Distinct_ratio', 'F13_flesch_reading_ease', 'F14_gunning_fog', 'F15_smog_index', 'F16_average_readability', 'F17_avg_sentence_length']\n",
      "(400, 2, 17)\n",
      "[0.03727659 0.02169691 0.15322865 0.0888161  0.00418537 0.\n",
      " 0.06423575 0.03425778 0.00092109 0.00038598 0.02028344 0.0244582\n",
      " 0.04909213 0.01669655 0.00450343 0.03361379 0.03331605]\n"
     ]
    },
    {
     "data": {
      "image/png": "[encoded data removed]",
      "text/plain": [
       "<Figure size 1000x600 with 1 Axes>"
      ]
     },
     "metadata": {},
     "output_type": "display_data"
    },
    {
     "name": "stdout",
     "output_type": "stream",
     "text": [
      "[ 6.35  3.7  26.11 15.13  0.71  0.   10.94  5.84  0.16  0.07  3.46  4.17\n",
      "  8.36  2.84  0.77  5.73  5.68]\n"
     ]
    }
   ],
   "source": [
    "import shap\n",
    "import matplotlib.pyplot as plt\n",
    "import numpy as np\n",
    "import pandas as pd\n",
    "from sklearn.ensemble import RandomForestClassifier\n",
    "from sklearn.model_selection import train_test_split\n",
    "from sklearn.datasets import make_classification\n",
    "\n",
    "X = df.drop(columns=['label'])\n",
    "\n",
    "# Select the target column as Y\n",
    "Y = df['label']\n",
    "\n",
    "\n",
    "feature_names = X.columns.tolist()  # List of feature names\n",
    "\n",
    "print(feature_names)\n",
    "\n",
    "# Split dataset\n",
    "X_train, X_test, y_train, y_test = train_test_split(X, Y, test_size=0.2, random_state=42)\n",
    "\n",
    "# Train a model\n",
    "model = RandomForestClassifier(n_estimators=100, random_state=42)\n",
    "model.fit(X_train, y_train)\n",
    "\n",
    "# Compute SHAP values\n",
    "explainer = shap.TreeExplainer(model)\n",
    "shap_values = explainer.shap_values(X_test)  # For classification, select class 1 SHAP values\n",
    "\n",
    "shap_reshaped = np.transpose(shap_values, (0, 2,1))\n",
    "\n",
    "print(shap_reshaped.shape)\n",
    "\n",
    "shap_mean = abs(shap_reshaped).mean(axis=(0, 1))\n",
    "\n",
    "print(shap_mean)\n",
    "\n",
    "shap_df = pd.DataFrame({\"Feature\": feature_names, \"Mean SHAP Value\": shap_mean})\n",
    "shap_df = shap_df.sort_values(by=\"Mean SHAP Value\", ascending=True)  # Sort for better visualization\n",
    "\n",
    "# Plot SHAP bar plot\n",
    "plt.figure(figsize=(10, 6))\n",
    "bars = plt.barh(shap_df[\"Feature\"], shap_df[\"Mean SHAP Value\"], color=\"dodgerblue\")\n",
    "plt.xlabel(\"Mean |SHAP Value|\")\n",
    "plt.ylabel(\"Feature\")\n",
    "plt.title(\"Feature Importance (SHAP Values)\")\n",
    "plt.grid(axis=\"x\", linestyle=\"--\", alpha=0.7)\n",
    "for bar in bars:\n",
    "    plt.text(bar.get_width(), bar.get_y() + bar.get_height()/2,\n",
    "             f'{bar.get_width():.4f}', va='center', ha='left', fontsize=10)\n",
    "plt.savefig(data_raw + '.png', dpi=300, bbox_inches='tight')\n",
    "plt.show()\n",
    "\n",
    "plt.show()\n",
    "\n",
    "total_sum = np.sum(shap_mean)\n",
    "\n",
    "# Compute ratios\n",
    "ratios = np.round((shap_mean / total_sum) * 100, 2)\n",
    "\n",
    "# Print results\n",
    "print(ratios)\n",
    "\n"
   ]
  },
  {
   "cell_type": "code",
   "execution_count": null,
   "metadata": {
    "colab": {
     "base_uri": "https://localhost:8080/"
    },
    "id": "Qy9SJWg7pXMO",
    "outputId": "10df7755-ad86-4d6b-deff-92bfc89a3cda"
   },
   "outputs": [
    {
     "name": "stdout",
     "output_type": "stream",
     "text": [
      "[ 6.35  3.7  26.11 15.13  0.71  0.   10.94  5.84  0.16  0.07  3.46  4.17\n",
      "  8.36  2.84  0.77  5.73  5.68]\n"
     ]
    }
   ],
   "source": [
    "ratios = np.round((shap_mean / total_sum) * 100, 2)\n",
    "print(ratios)"
   ]
  },
  {
   "cell_type": "code",
   "execution_count": null,
   "metadata": {
    "colab": {
     "base_uri": "https://localhost:8080/"
    },
    "id": "1qpR_qkcd5C5",
    "outputId": "400abf95-244a-4ae6-f911-1fa89c874b8c"
   },
   "outputs": [
    {
     "name": "stdout",
     "output_type": "stream",
     "text": [
      "12.1440589427948\n",
      "Mean Accuracy: 0.9049\n",
      "Mean Precision: 0.9061\n",
      "Mean Recall: 0.9049\n",
      "Mean F1-score: 0.9049\n",
      "\n",
      "🔹 Classification Report:\n",
      "               precision    recall  f1-score   support\n",
      "\n",
      "         ham       0.91      0.84      0.87        99\n",
      "        spam       0.85      0.92      0.88       100\n",
      "\n",
      "    accuracy                           0.88       199\n",
      "   macro avg       0.88      0.88      0.88       199\n",
      "weighted avg       0.88      0.88      0.88       199\n",
      "\n"
     ]
    }
   ],
   "source": [
    "from sklearn.model_selection import KFold, cross_val_score\n",
    "from sklearn.ensemble import RandomForestClassifier  # Example model\n",
    "from sklearn.model_selection import StratifiedKFold\n",
    "from sklearn.metrics import accuracy_score, precision_score, recall_score, f1_score\n",
    "from sklearn.ensemble import RandomForestClassifier  # Example model\n",
    "import numpy as np\n",
    "# Select all columns except the target as features (X)\n",
    "X = df.drop(columns=['label'])\n",
    "\n",
    "# Select the target column as Y\n",
    "Y = df['label']\n",
    "\n",
    "start = time.time()\n",
    "\n",
    "# Initialize RandomForestClassifier\n",
    "##rf_model = RandomForestClassifier(n_estimators=100, random_state=42)\n",
    "\n",
    "skf = StratifiedKFold(n_splits=10, shuffle=True, random_state=42)\n",
    "\n",
    "# Example model (Replace with your preferred model)\n",
    "model = RandomForestClassifier()\n",
    "\n",
    "# Lists to store metrics\n",
    "accuracy_list = []\n",
    "precision_list = []\n",
    "recall_list = []\n",
    "f1_list = []\n",
    "\n",
    "# Perform cross-validation\n",
    "for train_index, test_index in skf.split(X, Y):\n",
    "    X_train, X_test = X.iloc[train_index], X.iloc[test_index]\n",
    "    y_train, y_test = Y.iloc[train_index], Y.iloc[test_index]\n",
    "\n",
    "    # Train model\n",
    "    model.fit(X_train, y_train)\n",
    "\n",
    "    # Make predictions\n",
    "    y_pred = model.predict(X_test)\n",
    "\n",
    "    # Calculate metrics\n",
    "    accuracy_list.append(accuracy_score(y_test, y_pred))\n",
    "    precision_list.append(precision_score(y_test, y_pred, average='weighted'))  # 'weighted' for multi-class\n",
    "    recall_list.append(recall_score(y_test, y_pred, average='weighted'))\n",
    "    f1_list.append(f1_score(y_test, y_pred, average='weighted'))\n",
    "\n",
    "classification_time = time.time()-start\n",
    "print(classification_time)\n",
    "\n",
    "# Print mean of each metric\n",
    "print(f\"Mean Accuracy: {np.mean(accuracy_list):.4f}\")\n",
    "print(f\"Mean Precision: {np.mean(precision_list):.4f}\")\n",
    "print(f\"Mean Recall: {np.mean(recall_list):.4f}\")\n",
    "print(f\"Mean F1-score: {np.mean(f1_list):.4f}\")\n",
    "print(\"\\n🔹 Classification Report:\\n\", classification_report(y_test, y_pred))"
   ]
  },
  {
   "cell_type": "code",
   "execution_count": null,
   "metadata": {
    "colab": {
     "base_uri": "https://localhost:8080/"
    },
    "id": "17jAyxU1ca58",
    "outputId": "ca36736d-82a6-4074-c4b2-3d0af4126785"
   },
   "outputs": [
    {
     "name": "stdout",
     "output_type": "stream",
     "text": [
      "1.051375150680542\n",
      "✅ Accuracy: 0.8875\n",
      "✅ Precision: 0.8885\n",
      "✅ Recall: 0.8875\n",
      "✅ F1 Score: 0.8875\n",
      "\n",
      "🔹 Classification Report:\n",
      "               precision    recall  f1-score   support\n",
      "\n",
      "         ham       0.87      0.91      0.89       193\n",
      "        spam       0.91      0.87      0.89       207\n",
      "\n",
      "    accuracy                           0.89       400\n",
      "   macro avg       0.89      0.89      0.89       400\n",
      "weighted avg       0.89      0.89      0.89       400\n",
      "\n"
     ]
    }
   ],
   "source": [
    "# Select all columns except the target as features (X)\n",
    "X = df.drop(columns=['label'])\n",
    "\n",
    "# Select the target column as Y\n",
    "Y = df['label']\n",
    "\n",
    "\n",
    "X_train, X_test, y_train, y_test = train_test_split(X, Y, test_size=0.2, random_state=42)\n",
    "\n",
    "start = time.time()\n",
    "\n",
    "# Initialize RandomForestClassifier\n",
    "rf_model = RandomForestClassifier(n_estimators=100, random_state=42)\n",
    "\n",
    "# Train the model\n",
    "rf_model.fit(X_train, y_train)\n",
    "\n",
    "target_names = ['ham', 'spam']\n",
    "\n",
    "y_pred = rf_model.predict(X_test)\n",
    "\n",
    "classification_time = time.time()-start\n",
    "print(classification_time)\n",
    "\n",
    "accuracy = accuracy_score(y_test, y_pred)\n",
    "precision = precision_score(y_test, y_pred, average='weighted')\n",
    "recall = recall_score(y_test, y_pred, average='weighted')\n",
    "f1 = f1_score(y_test, y_pred, average='weighted')\n",
    "\n",
    "# Print Metrics\n",
    "print(f\"✅ Accuracy: {accuracy:.4f}\")\n",
    "print(f\"✅ Precision: {precision:.4f}\")\n",
    "print(f\"✅ Recall: {recall:.4f}\")\n",
    "print(f\"✅ F1 Score: {f1:.4f}\")\n",
    "print(\"\\n🔹 Classification Report:\\n\", classification_report(y_test, y_pred))"
   ]
  },
  {
   "cell_type": "code",
   "execution_count": null,
   "metadata": {
    "colab": {
     "base_uri": "https://localhost:8080/"
    },
    "id": "y6K9X2_e1_zN",
    "outputId": "192be5d6-37aa-46df-f160-7e64c3ab4e2b"
   },
   "outputs": [
    {
     "name": "stdout",
     "output_type": "stream",
     "text": [
      "Index(['label', 'F1_char_count', 'F2_Presence_of_Special_symbol',\n",
      "       'F3_avg_word_length', 'F4_subscriber_ID', 'F5_Presence_of_link',\n",
      "       'F6_emoji_count', 'F7_Presence of currency_symbol',\n",
      "       'F8_Presence_of_phone_number', 'F9_Presence_of_dateandtime',\n",
      "       'F10_Language_Mix', 'F11_Distinct_words', 'F12_Distinct_ratio',\n",
      "       'F13_flesch_reading_ease', 'F14_gunning_fog', 'F15_smog_index',\n",
      "       'F16_average_readability', 'F17_avg_sentence_length'],\n",
      "      dtype='object')\n"
     ]
    }
   ],
   "source": [
    "df.to_csv(\"feature.csv\", index=False)\n",
    "print(df.columns)"
   ]
  },
  {
   "cell_type": "code",
   "execution_count": null,
   "metadata": {
    "colab": {
     "base_uri": "https://localhost:8080/",
     "height": 487
    },
    "id": "SV00sNnbdUTr",
    "outputId": "a088923f-1dfe-44be-becf-7c7c3e941c63"
   },
   "outputs": [
    {
     "data": {
      "image/png": "[encoded data removed]",
      "text/plain": [
       "<Figure size 600x500 with 2 Axes>"
      ]
     },
     "metadata": {},
     "output_type": "display_data"
    }
   ],
   "source": [
    "# Compute Confusion Matrix\n",
    "conf_matrix = confusion_matrix(y_test, y_pred)\n",
    "\n",
    "# Display Confusion Matrix as Heatmap\n",
    "plt.figure(figsize=(6, 5))\n",
    "sns.heatmap(conf_matrix, annot=True, fmt=\"d\", cmap=\"Blues\", xticklabels=target_names, yticklabels=target_names)\n",
    "plt.xlabel(\"Predicted Label\")\n",
    "plt.ylabel(\"True Label\")\n",
    "plt.title(\"Confusion Matrix\")\n",
    "plt.show()\n"
   ]
  },
  {
   "cell_type": "code",
   "execution_count": null,
   "metadata": {
    "colab": {
     "base_uri": "https://localhost:8080/"
    },
    "id": "Fcje3Af6CkcA",
    "outputId": "9b1a9fa5-2bfd-4e0c-a793-ae4deb9e4d57"
   },
   "outputs": [
    {
     "name": "stderr",
     "output_type": "stream",
     "text": [
      "/usr/local/lib/python3.11/dist-packages/dask/dataframe/__init__.py:42: FutureWarning: \n",
      "Dask dataframe query planning is disabled because dask-expr is not installed.\n",
      "\n",
      "You can install it with `pip install dask[dataframe]` or `conda install dask`.\n",
      "This will raise in a future version.\n",
      "\n",
      "  warnings.warn(msg, FutureWarning)\n",
      "100%|██████████| 32/32 [00:04<00:00,  6.88it/s]"
     ]
    },
    {
     "name": "stdout",
     "output_type": "stream",
     "text": [
      "[LightGBM] [Info] Number of positive: 793, number of negative: 806\n",
      "[LightGBM] [Info] Auto-choosing col-wise multi-threading, the overhead of testing was 0.000491 seconds.\n",
      "You can set `force_col_wise=true` to remove the overhead.\n",
      "[LightGBM] [Info] Total Bins 1589\n",
      "[LightGBM] [Info] Number of data points in the train set: 1599, number of used features: 15\n",
      "[LightGBM] [Info] [binary:BoostFromScore]: pavg=0.495935 -> initscore=-0.016261\n",
      "[LightGBM] [Info] Start training from score -0.016261\n",
      "                               Accuracy  Balanced Accuracy ROC AUC  F1 Score  \\\n",
      "Model                                                                          \n",
      "ExtraTreesClassifier               0.90               0.90    None      0.90   \n",
      "LGBMClassifier                     0.89               0.89    None      0.89   \n",
      "RandomForestClassifier             0.89               0.89    None      0.89   \n",
      "KNeighborsClassifier               0.88               0.88    None      0.88   \n",
      "BaggingClassifier                  0.88               0.88    None      0.88   \n",
      "ExtraTreeClassifier                0.86               0.87    None      0.87   \n",
      "AdaBoostClassifier                 0.86               0.87    None      0.87   \n",
      "LabelPropagation                   0.86               0.86    None      0.86   \n",
      "SVC                                0.86               0.86    None      0.86   \n",
      "LabelSpreading                     0.86               0.86    None      0.86   \n",
      "NuSVC                              0.85               0.86    None      0.85   \n",
      "BernoulliNB                        0.85               0.86    None      0.86   \n",
      "LinearSVC                          0.84               0.85    None      0.84   \n",
      "LogisticRegression                 0.84               0.85    None      0.84   \n",
      "QuadraticDiscriminantAnalysis      0.84               0.84    None      0.84   \n",
      "CalibratedClassifierCV             0.84               0.84    None      0.84   \n",
      "LinearDiscriminantAnalysis         0.84               0.84    None      0.84   \n",
      "RidgeClassifier                    0.84               0.84    None      0.84   \n",
      "RidgeClassifierCV                  0.84               0.84    None      0.84   \n",
      "SGDClassifier                      0.83               0.84    None      0.83   \n",
      "DecisionTreeClassifier             0.83               0.84    None      0.84   \n",
      "Perceptron                         0.84               0.84    None      0.84   \n",
      "NearestCentroid                    0.83               0.83    None      0.83   \n",
      "GaussianNB                         0.82               0.83    None      0.82   \n",
      "PassiveAggressiveClassifier        0.81               0.81    None      0.81   \n",
      "DummyClassifier                    0.48               0.50    None      0.31   \n",
      "\n",
      "                               Time Taken  \n",
      "Model                                      \n",
      "ExtraTreesClassifier                 0.63  \n",
      "LGBMClassifier                       0.22  \n",
      "RandomForestClassifier               0.59  \n",
      "KNeighborsClassifier                 0.09  \n",
      "BaggingClassifier                    0.19  \n",
      "ExtraTreeClassifier                  0.10  \n",
      "AdaBoostClassifier                   0.46  \n",
      "LabelPropagation                     0.20  \n",
      "SVC                                  0.14  \n",
      "LabelSpreading                       0.24  \n",
      "NuSVC                                0.23  \n",
      "BernoulliNB                          0.07  \n",
      "LinearSVC                            0.04  \n",
      "LogisticRegression                   0.10  \n",
      "QuadraticDiscriminantAnalysis        0.04  \n",
      "CalibratedClassifierCV               0.32  \n",
      "LinearDiscriminantAnalysis           0.03  \n",
      "RidgeClassifier                      0.04  \n",
      "RidgeClassifierCV                    0.17  \n",
      "SGDClassifier                        0.09  \n",
      "DecisionTreeClassifier               0.15  \n",
      "Perceptron                           0.03  \n",
      "NearestCentroid                      0.07  \n",
      "GaussianNB                           0.11  \n",
      "PassiveAggressiveClassifier          0.03  \n",
      "DummyClassifier                      0.10  \n"
     ]
    },
    {
     "name": "stderr",
     "output_type": "stream",
     "text": [
      "\n"
     ]
    }
   ],
   "source": [
    "import lazypredict\n",
    "from lazypredict.Supervised import LazyClassifier\n",
    "\n",
    "clf = LazyClassifier(verbose=0,ignore_warnings=True, custom_metric=None)\n",
    "models,predictions = clf.fit(X_train, X_test, y_train, y_test)\n",
    "print(models)"
   ]
  },
  {
   "cell_type": "code",
   "execution_count": null,
   "metadata": {
    "id": "cMpcSxHeHWtK"
   },
   "outputs": [],
   "source": [
    "# Initialize model\n",
    "start = time.time()\n",
    "model = RandomForestClassifier(n_estimators=100, random_state=42)\n",
    "\n",
    "# Store accuracy and best features\n",
    "accuracy_list = []\n",
    "selected_features_list = []\n",
    "n_features = list(range(1, X.shape[1] + 1))  # From 1 to total number of features\n",
    "\n",
    "# RFE for different numbers of features\n",
    "for n in n_features:\n",
    "    rfe = RFE(model, n_features_to_select=n)\n",
    "    X_train_rfe = rfe.fit_transform(X_train, y_train)\n",
    "    X_test_rfe = rfe.transform(X_test)\n",
    "\n",
    "    # Train model\n",
    "    model.fit(X_train_rfe, y_train)\n",
    "    y_pred = model.predict(X_test_rfe)\n",
    "\n",
    "    # Calculate accuracy\n",
    "    acc = accuracy_score(y_test, y_pred)\n",
    "    accuracy_list.append(acc)\n",
    "\n",
    "    # Store selected features\n",
    "    selected_features = X.columns[rfe.get_support()].tolist()\n",
    "    selected_features_list.append(selected_features)\n",
    "\n",
    "\n",
    "\n",
    "selection_time = time.time()-start\n"
   ]
  },
  {
   "cell_type": "code",
   "execution_count": null,
   "metadata": {
    "colab": {
     "base_uri": "https://localhost:8080/"
    },
    "id": "Dz6hSd5kWcFa",
    "outputId": "71d1149d-a076-4b28-f761-9b8b3d96c4ff"
   },
   "outputs": [
    {
     "name": "stdout",
     "output_type": "stream",
     "text": [
      "71.31020545959473\n"
     ]
    }
   ],
   "source": [
    "print(selection_time)"
   ]
  },
  {
   "cell_type": "code",
   "execution_count": null,
   "metadata": {
    "colab": {
     "base_uri": "https://localhost:8080/",
     "height": 614
    },
    "id": "ihvyCKqVG8tw",
    "outputId": "7093146e-ec1b-4b85-8f2c-76f0343b0de9"
   },
   "outputs": [
    {
     "data": {
      "image/png": "[encoded data removed]",
      "text/plain": [
       "<Figure size 1000x600 with 1 Axes>"
      ]
     },
     "metadata": {},
     "output_type": "display_data"
    },
    {
     "name": "stdout",
     "output_type": "stream",
     "text": [
      "Best number of features: 17\n",
      "Best accuracy: 0.8875\n",
      "Best feature combination: ['F1_char_count', 'F2_Presence_of_Special_symbol', 'F3_avg_word_length', 'F4_subscriber_ID', 'F5_Presence_of_link', 'F6_emoji_count', 'F7_Presence of currency_symbol', 'F8_Presence_of_phone_number', 'F9_Presence_of_dateandtime', 'F10_Language_Mix', 'F11_Distinct_words', 'F12_Distinct_ratio', 'F13_flesch_reading_ease', 'F14_gunning_fog', 'F15_smog_index', 'F16_average_readability', 'F17_avg_sentence_length']\n"
     ]
    }
   ],
   "source": [
    "# Plot accuracy vs number of features\n",
    "plt.figure(figsize=(10, 6))\n",
    "plt.plot(n_features, accuracy_list, marker='o')\n",
    "\n",
    "# Annotate each point with accuracy\n",
    "for i, acc in enumerate(accuracy_list):\n",
    "    plt.text(\n",
    "        n_features[i],\n",
    "        acc + 0.005,  # Slightly above the point for better visibility\n",
    "        f\"{acc:.4f}\",\n",
    "        ha='center',\n",
    "        fontsize=9,\n",
    "        color='black'\n",
    "    )\n",
    "\n",
    "##plt.title('Accuracy vs. Number of Selected Features')\n",
    "plt.xlabel('Number of Features Selected')\n",
    "plt.ylabel('Accuracy')\n",
    "plt.grid(True)\n",
    "plt.ylim(min(accuracy_list) -0.01, max(accuracy_list) + 0.01)\n",
    "plt.savefig(data_raw+'.png', dpi=500)\n",
    "plt.show()\n",
    "\n",
    "# Find the best accuracy and corresponding features\n",
    "best_index = np.argmax(accuracy_list)\n",
    "best_n = n_features[best_index]\n",
    "best_accuracy = accuracy_list[best_index]\n",
    "best_features = selected_features_list[best_index]\n",
    "\n",
    "# Display the results\n",
    "print(f\"Best number of features: {best_n}\")\n",
    "print(f\"Best accuracy: {best_accuracy:.4f}\")\n",
    "print(f\"Best feature combination: {best_features}\")"
   ]
  },
  {
   "cell_type": "code",
   "execution_count": null,
   "metadata": {
    "colab": {
     "base_uri": "https://localhost:8080/",
     "height": 391
    },
    "id": "5UXrn4icwDj8",
    "outputId": "90c42807-acc6-4af9-f873-01bda7f67b43"
   },
   "outputs": [
    {
     "data": {
      "image/png": "[encoded data removed]",
      "text/plain": [
       "<Figure size 600x400 with 1 Axes>"
      ]
     },
     "metadata": {},
     "output_type": "display_data"
    }
   ],
   "source": [
    "import seaborn as sns\n",
    "import pandas as pd\n",
    "import matplotlib.pyplot as plt\n",
    "\n",
    "# Example Data\n",
    "data = pd.DataFrame({\n",
    "    'Feature': ['A', 'B', 'C', 'D', 'E'],\n",
    "    'Method1': [1, 0, 1, 1, 0],\n",
    "    'Method2': [0, 1, 1, 0, 1],\n",
    "    'Method3': [1, 1, 1, 0, 0]\n",
    "}).set_index('Feature')\n",
    "\n",
    "plt.figure(figsize=(6, 4))\n",
    "sns.heatmap(data, annot=True, cmap=\"Blues\", cbar=False)\n",
    "plt.title(\"Feature Selection Heatmap\")\n",
    "plt.show()\n"
   ]
  },
  {
   "cell_type": "code",
   "execution_count": null,
   "metadata": {
    "colab": {
     "base_uri": "https://localhost:8080/"
    },
    "id": "0UxwhqhSdGcu",
    "outputId": "5186c91b-2157-43e0-f940-c688aa3fd9d7"
   },
   "outputs": [
    {
     "name": "stdout",
     "output_type": "stream",
     "text": [
      "Requirement already satisfied: upsetplot in /usr/local/lib/python3.11/dist-packages (0.9.0)\n",
      "Requirement already satisfied: pandas>=0.23 in /usr/local/lib/python3.11/dist-packages (from upsetplot) (2.2.2)\n",
      "Requirement already satisfied: matplotlib>=2.0 in /usr/local/lib/python3.11/dist-packages (from upsetplot) (3.10.0)\n",
      "Requirement already satisfied: contourpy>=1.0.1 in /usr/local/lib/python3.11/dist-packages (from matplotlib>=2.0->upsetplot) (1.3.1)\n",
      "Requirement already satisfied: cycler>=0.10 in /usr/local/lib/python3.11/dist-packages (from matplotlib>=2.0->upsetplot) (0.12.1)\n",
      "Requirement already satisfied: fonttools>=4.22.0 in /usr/local/lib/python3.11/dist-packages (from matplotlib>=2.0->upsetplot) (4.56.0)\n",
      "Requirement already satisfied: kiwisolver>=1.3.1 in /usr/local/lib/python3.11/dist-packages (from matplotlib>=2.0->upsetplot) (1.4.8)\n",
      "Requirement already satisfied: numpy>=1.23 in /usr/local/lib/python3.11/dist-packages (from matplotlib>=2.0->upsetplot) (1.26.4)\n",
      "Requirement already satisfied: packaging>=20.0 in /usr/local/lib/python3.11/dist-packages (from matplotlib>=2.0->upsetplot) (24.2)\n",
      "Requirement already satisfied: pillow>=8 in /usr/local/lib/python3.11/dist-packages (from matplotlib>=2.0->upsetplot) (11.1.0)\n",
      "Requirement already satisfied: pyparsing>=2.3.1 in /usr/local/lib/python3.11/dist-packages (from matplotlib>=2.0->upsetplot) (3.2.1)\n",
      "Requirement already satisfied: python-dateutil>=2.7 in /usr/local/lib/python3.11/dist-packages (from matplotlib>=2.0->upsetplot) (2.8.2)\n",
      "Requirement already satisfied: pytz>=2020.1 in /usr/local/lib/python3.11/dist-packages (from pandas>=0.23->upsetplot) (2025.1)\n",
      "Requirement already satisfied: tzdata>=2022.7 in /usr/local/lib/python3.11/dist-packages (from pandas>=0.23->upsetplot) (2025.1)\n",
      "Requirement already satisfied: six>=1.5 in /usr/local/lib/python3.11/dist-packages (from python-dateutil>=2.7->matplotlib>=2.0->upsetplot) (1.17.0)\n"
     ]
    }
   ],
   "source": [
    "!pip install upsetplot"
   ]
  },
  {
   "cell_type": "code",
   "execution_count": null,
   "metadata": {
    "colab": {
     "base_uri": "https://localhost:8080/",
     "height": 564
    },
    "id": "h-d7cUrQc2NT",
    "outputId": "c4940cdd-b6e6-464a-b65e-b197c7ce9c3d"
   },
   "outputs": [
    {
     "data": {
      "image/png": "[encoded data removed]",
      "text/plain": [
       "<Figure size 1200x600 with 1 Axes>"
      ]
     },
     "metadata": {},
     "output_type": "display_data"
    }
   ],
   "source": [
    "import numpy as np\n",
    "import pandas as pd\n",
    "import matplotlib.pyplot as plt\n",
    "import seaborn as sns\n",
    "from sklearn.ensemble import RandomForestClassifier\n",
    "\n",
    "# Simulated feature names (Replace with actual feature names)\n",
    "feature_names = [\n",
    "    \"Char Count\", \"Special Symbol\", \"Avg. Word Length\", \"Subscriber ID\",\n",
    "    \"Presence of Link\", \"Emoji Count\", \"Currency Symbol\", \"Phone Number\",\n",
    "    \"Date & Time\", \"Language Mix\", \"Distinct Words\", \"Distinct Ratio\",\n",
    "    \"Flesch Reading Ease\", \"Gunning Fog\", \"Smog Index\",\n",
    "    \"Avg. Readability\", \"Avg. Sentence Length\"\n",
    "]\n",
    "\n",
    "# Simulated feature importance values (Replace with actual model output)\n",
    "feature_importance = np.array([\n",
    "    0.12, 0.08, 0.10, 0.06, 0.05, 0.02, 0.07, 0.09,\n",
    "    0.04, 0.06, 0.10, 0.08, 0.07, 0.05, 0.06, 0.08, 0.07\n",
    "])\n",
    "\n",
    "# Create DataFrame for visualization\n",
    "feature_df = pd.DataFrame({'Feature': feature_names, 'Importance': feature_importance})\n",
    "feature_df = feature_df.sort_values(by=\"Importance\", ascending=False)\n",
    "\n",
    "# Plot Feature Importance\n",
    "plt.figure(figsize=(12, 6))\n",
    "sns.barplot(x='Importance', y='Feature', data=feature_df, palette=\"viridis\")\n",
    "\n",
    "plt.xlabel(\"Feature Importance Score\")\n",
    "plt.ylabel(\"Features\")\n",
    "plt.title(\"Feature Importance using Random Forest\")\n",
    "plt.show()\n"
   ]
  },
  {
   "cell_type": "code",
   "execution_count": null,
   "metadata": {
    "id": "lfGJaRE2mM40"
   },
   "outputs": [],
   "source": []
  }
 ],
 "metadata": {
  "colab": {
   "provenance": []
  },
  "kernelspec": {
   "display_name": "Python 3 (ipykernel)",
   "language": "python",
   "name": "python3"
  },
  "language_info": {
   "codemirror_mode": {
    "name": "ipython",
    "version": 3
   },
   "file_extension": ".py",
   "mimetype": "text/x-python",
   "name": "python",
   "nbconvert_exporter": "python",
   "pygments_lexer": "ipython3",
   "version": "3.11.8"
  }
 },
 "nbformat": 4,
 "nbformat_minor": 4
}
